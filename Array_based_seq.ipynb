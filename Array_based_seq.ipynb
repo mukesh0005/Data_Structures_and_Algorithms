{
 "cells": [
  {
   "cell_type": "code",
   "execution_count": 1,
   "metadata": {},
   "outputs": [
    {
     "name": "stdout",
     "output_type": "stream",
     "text": [
      "Length:   0; Size in bytes:   56\n",
      "Length:   1; Size in bytes:   88\n",
      "Length:   2; Size in bytes:   88\n",
      "Length:   3; Size in bytes:   88\n",
      "Length:   4; Size in bytes:   88\n",
      "Length:   5; Size in bytes:  120\n",
      "Length:   6; Size in bytes:  120\n",
      "Length:   7; Size in bytes:  120\n",
      "Length:   8; Size in bytes:  120\n",
      "Length:   9; Size in bytes:  184\n",
      "Length:  10; Size in bytes:  184\n",
      "Length:  11; Size in bytes:  184\n",
      "Length:  12; Size in bytes:  184\n",
      "Length:  13; Size in bytes:  184\n",
      "Length:  14; Size in bytes:  184\n",
      "Length:  15; Size in bytes:  184\n",
      "Length:  16; Size in bytes:  184\n",
      "Length:  17; Size in bytes:  248\n",
      "Length:  18; Size in bytes:  248\n",
      "Length:  19; Size in bytes:  248\n"
     ]
    }
   ],
   "source": [
    "import sys\n",
    "data = []\n",
    "for k in range(20):\n",
    "    a = len(data)\n",
    "    b = sys.getsizeof(data)\n",
    "    print('Length: {0:3d}; Size in bytes: {1:4d}'.format(a, b))\n",
    "    data.append('wow1')"
   ]
  },
  {
   "attachments": {},
   "cell_type": "markdown",
   "metadata": {},
   "source": [
    "### Insertion sort"
   ]
  },
  {
   "cell_type": "code",
   "execution_count": 2,
   "metadata": {},
   "outputs": [],
   "source": [
    "def insertion_sort(A):\n",
    "    for k in range(1,len(A)):\n",
    "        cur = A[k]\n",
    "        j = k\n",
    "        while j>0 and A[j-1]>cur:\n",
    "            A[j]=A[j-1]\n",
    "            j -= 1\n",
    "            A[j] = cur"
   ]
  },
  {
   "attachments": {},
   "cell_type": "markdown",
   "metadata": {},
   "source": [
    "### Cipher"
   ]
  },
  {
   "cell_type": "code",
   "execution_count": 26,
   "metadata": {},
   "outputs": [],
   "source": [
    "class CeaserCipher:\n",
    "    def __init__(self,shift):\n",
    "        ## shift \n",
    "        encoder = [None]*26\n",
    "        decoder = [None]*26\n",
    "        for k in range(26):\n",
    "            encoder[k] = chr((k+shift) % 26 + ord('A'))\n",
    "            decoder[k] = chr((k-shift) % 26 + ord('A'))\n",
    "        self._forward = ''.join(encoder)\n",
    "        self._backward = ''.join(decoder)\n",
    "    \n",
    "    def encrypt(self,message):\n",
    "        return self._transform(message,self._forward)\n",
    "\n",
    "    def decrypt(self,secret):\n",
    "        return self._transform(secret,self._backward)\n",
    "\n",
    "    def _transform(self,original,code):\n",
    "        msg = list(original)\n",
    "        for k in range(len(msg)):\n",
    "            if msg[k].isupper():\n",
    "                j = ord(msg[k])-ord('A')\n",
    "                msg[k] = code[j]\n",
    "        return ''.join(msg)\n"
   ]
  },
  {
   "cell_type": "code",
   "execution_count": 27,
   "metadata": {},
   "outputs": [
    {
     "name": "stdout",
     "output_type": "stream",
     "text": [
      "WKH HDJOH LV LQ SODB; PHHW DW MRH V.\n"
     ]
    }
   ],
   "source": [
    "if __name__ == '__main__' :\n",
    "    cipher = CeaserCipher(3)\n",
    "    message = \"THE EAGLE IS IN PLAY; MEET AT JOE S.\"\n",
    "    coded = cipher.encrypt(message)\n",
    "    print(coded)"
   ]
  }
 ],
 "metadata": {
  "kernelspec": {
   "display_name": "Python 3",
   "language": "python",
   "name": "python3"
  },
  "language_info": {
   "codemirror_mode": {
    "name": "ipython",
    "version": 3
   },
   "file_extension": ".py",
   "mimetype": "text/x-python",
   "name": "python",
   "nbconvert_exporter": "python",
   "pygments_lexer": "ipython3",
   "version": "3.11.4"
  },
  "orig_nbformat": 4
 },
 "nbformat": 4,
 "nbformat_minor": 2
}
