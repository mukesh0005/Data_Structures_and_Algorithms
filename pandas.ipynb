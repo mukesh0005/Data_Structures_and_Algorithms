{
 "cells": [
  {
   "cell_type": "code",
   "execution_count": 2,
   "metadata": {},
   "outputs": [],
   "source": [
    "import pandas as pd"
   ]
  },
  {
   "cell_type": "code",
   "execution_count": 12,
   "metadata": {},
   "outputs": [],
   "source": [
    "def subarraySum(arr,N,S):\n",
    "    sum = 0\n",
    "    for i in range(N):\n",
    "        if sum < S:\n",
    "            sum += arr[i]\n",
    "        else:\n",
    "            break\n",
    "    return arr[0],arr[i-1]"
   ]
  },
  {
   "cell_type": "code",
   "execution_count": 13,
   "metadata": {},
   "outputs": [
    {
     "data": {
      "text/plain": [
       "(1, 5)"
      ]
     },
     "execution_count": 13,
     "metadata": {},
     "output_type": "execute_result"
    }
   ],
   "source": [
    "arr = (1,2,3,4,5,6,7,8,9,10)\n",
    "subarraySum(arr,10,15)"
   ]
  },
  {
   "cell_type": "code",
   "execution_count": 14,
   "metadata": {},
   "outputs": [
    {
     "data": {
      "text/plain": [
       "(1, 7)"
      ]
     },
     "execution_count": 14,
     "metadata": {},
     "output_type": "execute_result"
    }
   ],
   "source": [
    "arr = (1,2,3,7,5)\n",
    "subarraySum(arr,5,12)"
   ]
  },
  {
   "cell_type": "code",
   "execution_count": 18,
   "metadata": {},
   "outputs": [],
   "source": [
    "mylist = list('abcedfghijklmnopqrstuvwxyz')\n",
    "myarr = np.arange(26)\n",
    "mydict = dict(zip(mylist, myarr))"
   ]
  },
  {
   "cell_type": "code",
   "execution_count": 30,
   "metadata": {},
   "outputs": [
    {
     "data": {
      "text/html": [
       "<div>\n",
       "<style scoped>\n",
       "    .dataframe tbody tr th:only-of-type {\n",
       "        vertical-align: middle;\n",
       "    }\n",
       "\n",
       "    .dataframe tbody tr th {\n",
       "        vertical-align: top;\n",
       "    }\n",
       "\n",
       "    .dataframe thead th {\n",
       "        text-align: right;\n",
       "    }\n",
       "</style>\n",
       "<table border=\"1\" class=\"dataframe\">\n",
       "  <thead>\n",
       "    <tr style=\"text-align: right;\">\n",
       "      <th></th>\n",
       "      <th>index</th>\n",
       "      <th>0</th>\n",
       "    </tr>\n",
       "  </thead>\n",
       "  <tbody>\n",
       "    <tr>\n",
       "      <th>0</th>\n",
       "      <td>a</td>\n",
       "      <td>0</td>\n",
       "    </tr>\n",
       "    <tr>\n",
       "      <th>1</th>\n",
       "      <td>b</td>\n",
       "      <td>1</td>\n",
       "    </tr>\n",
       "    <tr>\n",
       "      <th>2</th>\n",
       "      <td>c</td>\n",
       "      <td>2</td>\n",
       "    </tr>\n",
       "    <tr>\n",
       "      <th>3</th>\n",
       "      <td>e</td>\n",
       "      <td>3</td>\n",
       "    </tr>\n",
       "    <tr>\n",
       "      <th>4</th>\n",
       "      <td>d</td>\n",
       "      <td>4</td>\n",
       "    </tr>\n",
       "  </tbody>\n",
       "</table>\n",
       "</div>"
      ],
      "text/plain": [
       "  index  0\n",
       "0     a  0\n",
       "1     b  1\n",
       "2     c  2\n",
       "3     e  3\n",
       "4     d  4"
      ]
     },
     "execution_count": 30,
     "metadata": {},
     "output_type": "execute_result"
    }
   ],
   "source": [
    "ser = pd.Series(mydict)\n",
    "type(ser)\n",
    "df = ser.to_frame().reset_index()\n",
    "df.head()"
   ]
  },
  {
   "cell_type": "code",
   "execution_count": 33,
   "metadata": {},
   "outputs": [
    {
     "data": {
      "text/html": [
       "<div>\n",
       "<style scoped>\n",
       "    .dataframe tbody tr th:only-of-type {\n",
       "        vertical-align: middle;\n",
       "    }\n",
       "\n",
       "    .dataframe tbody tr th {\n",
       "        vertical-align: top;\n",
       "    }\n",
       "\n",
       "    .dataframe thead th {\n",
       "        text-align: right;\n",
       "    }\n",
       "</style>\n",
       "<table border=\"1\" class=\"dataframe\">\n",
       "  <thead>\n",
       "    <tr style=\"text-align: right;\">\n",
       "      <th></th>\n",
       "      <th>0</th>\n",
       "      <th>1</th>\n",
       "    </tr>\n",
       "  </thead>\n",
       "  <tbody>\n",
       "    <tr>\n",
       "      <th>0</th>\n",
       "      <td>1</td>\n",
       "      <td>4</td>\n",
       "    </tr>\n",
       "    <tr>\n",
       "      <th>1</th>\n",
       "      <td>2</td>\n",
       "      <td>5</td>\n",
       "    </tr>\n",
       "    <tr>\n",
       "      <th>2</th>\n",
       "      <td>3</td>\n",
       "      <td>6</td>\n",
       "    </tr>\n",
       "    <tr>\n",
       "      <th>3</th>\n",
       "      <td>4</td>\n",
       "      <td>7</td>\n",
       "    </tr>\n",
       "    <tr>\n",
       "      <th>4</th>\n",
       "      <td>5</td>\n",
       "      <td>8</td>\n",
       "    </tr>\n",
       "  </tbody>\n",
       "</table>\n",
       "</div>"
      ],
      "text/plain": [
       "   0  1\n",
       "0  1  4\n",
       "1  2  5\n",
       "2  3  6\n",
       "3  4  7\n",
       "4  5  8"
      ]
     },
     "execution_count": 33,
     "metadata": {},
     "output_type": "execute_result"
    }
   ],
   "source": [
    "ser1 = pd.Series([1, 2, 3, 4, 5])\n",
    "ser2 = pd.Series([4, 5, 6, 7, 8])\n",
    "\n",
    "comb = pd.concat((ser1,ser2),axis=1)\n",
    "comb"
   ]
  },
  {
   "cell_type": "code",
   "execution_count": 34,
   "metadata": {},
   "outputs": [
    {
     "data": {
      "text/plain": [
       "0    1\n",
       "1    2\n",
       "2    3\n",
       "dtype: int64"
      ]
     },
     "execution_count": 34,
     "metadata": {},
     "output_type": "execute_result"
    }
   ],
   "source": [
    "ser1[~ser1.isin(ser2)]"
   ]
  },
  {
   "cell_type": "code",
   "execution_count": 35,
   "metadata": {},
   "outputs": [
    {
     "data": {
      "text/plain": [
       "d    8\n",
       "h    5\n",
       "c    4\n",
       "g    4\n",
       "f    3\n",
       "a    3\n",
       "b    2\n",
       "e    1\n",
       "Name: count, dtype: int64"
      ]
     },
     "execution_count": 35,
     "metadata": {},
     "output_type": "execute_result"
    }
   ],
   "source": [
    "ser = pd.Series(np.take(list('abcdefgh'), np.random.randint(8, size=30)))\n",
    "\n",
    "ser.value_counts()"
   ]
  },
  {
   "cell_type": "code",
   "execution_count": 36,
   "metadata": {},
   "outputs": [
    {
     "data": {
      "text/plain": [
       "0     2\n",
       "1     4\n",
       "2     1\n",
       "3     4\n",
       "4     3\n",
       "5     4\n",
       "6     2\n",
       "7     3\n",
       "8     3\n",
       "9     2\n",
       "10    3\n",
       "11    4\n",
       "dtype: int32"
      ]
     },
     "execution_count": 36,
     "metadata": {},
     "output_type": "execute_result"
    }
   ],
   "source": [
    "ser = pd.Series(np.random.randint(1, 5, [12]))\n",
    "ser"
   ]
  },
  {
   "cell_type": "code",
   "execution_count": 37,
   "metadata": {},
   "outputs": [
    {
     "data": {
      "text/plain": [
       "array([[ 4],\n",
       "       [ 7],\n",
       "       [ 8],\n",
       "       [10]], dtype=int64)"
      ]
     },
     "execution_count": 37,
     "metadata": {},
     "output_type": "execute_result"
    }
   ],
   "source": [
    "np.argwhere(ser % 3==0)"
   ]
  },
  {
   "cell_type": "code",
   "execution_count": 38,
   "metadata": {},
   "outputs": [
    {
     "data": {
      "text/plain": [
       "0     a\n",
       "4     e\n",
       "8     i\n",
       "14    o\n",
       "20    u\n",
       "dtype: object"
      ]
     },
     "execution_count": 38,
     "metadata": {},
     "output_type": "execute_result"
    }
   ],
   "source": [
    "# Input\n",
    "ser = pd.Series(list('abcdefghijklmnopqrstuvwxyz'))\n",
    "pos = [0, 4, 8, 14, 20]\n",
    "\n",
    "# Solution\n",
    "ser.take(pos)"
   ]
  },
  {
   "cell_type": "code",
   "execution_count": 40,
   "metadata": {},
   "outputs": [
    {
     "name": "stdout",
     "output_type": "stream",
     "text": [
      "0    0\n",
      "1    1\n",
      "2    2\n",
      "3    3\n",
      "4    4\n",
      "0    a\n",
      "1    b\n",
      "2    c\n",
      "3    d\n",
      "4    e\n",
      "dtype: object\n",
      "   0  1\n",
      "0  0  a\n",
      "1  1  b\n",
      "2  2  c\n",
      "3  3  d\n",
      "4  4  e\n"
     ]
    }
   ],
   "source": [
    "# Input\n",
    "ser1 = pd.Series(range(5))\n",
    "ser2 = pd.Series(list('abcde'))\n",
    "\n",
    "# Output\n",
    "# Vertical\n",
    "df = pd.concat([ser1, ser2], axis=0)\n",
    "print(df)\n",
    "\n",
    "# Horizontal\n",
    "df1 = pd.concat([ser1, ser2], axis=1)\n",
    "print(df1)"
   ]
  },
  {
   "cell_type": "code",
   "execution_count": 42,
   "metadata": {},
   "outputs": [
    {
     "data": {
      "text/plain": [
       "[5, 4, 0, 8]"
      ]
     },
     "execution_count": 42,
     "metadata": {},
     "output_type": "execute_result"
    }
   ],
   "source": [
    "# Input\n",
    "ser1 = pd.Series([10, 9, 6, 5, 3, 1, 12, 8, 13])\n",
    "ser2 = pd.Series([1, 3, 10, 13])\n",
    "\n",
    "# Solution 1\n",
    "[np.where(i == ser1)[0].tolist()[0] for i in ser2]\n"
   ]
  },
  {
   "cell_type": "code",
   "execution_count": 43,
   "metadata": {},
   "outputs": [
    {
     "data": {
      "text/plain": [
       "[5, 4, 0, 8]"
      ]
     },
     "execution_count": 43,
     "metadata": {},
     "output_type": "execute_result"
    }
   ],
   "source": [
    "\n",
    "# Solution 2\n",
    "[pd.Index(ser1).get_loc(i) for i in ser2]"
   ]
  },
  {
   "cell_type": "code",
   "execution_count": 44,
   "metadata": {},
   "outputs": [
    {
     "data": {
      "text/plain": [
       "0     How\n",
       "1      To\n",
       "2    Kick\n",
       "3    Ass?\n",
       "dtype: object"
      ]
     },
     "execution_count": 44,
     "metadata": {},
     "output_type": "execute_result"
    }
   ],
   "source": [
    "# Input\n",
    "ser = pd.Series(['how', 'to', 'kick', 'ass?'])\n",
    "\n",
    "# Solution 1\n",
    "ser.map(lambda x: x.title())\n",
    "\n",
    "# Solution 2\n",
    "ser.map(lambda x: x[0].upper() + x[1:])\n",
    "\n",
    "# Solution 3\n",
    "pd.Series([i.title() for i in ser])"
   ]
  },
  {
   "cell_type": "code",
   "execution_count": 55,
   "metadata": {},
   "outputs": [],
   "source": [
    "ser = pd.Series(['01 Jan 2010', '02-02-2011', '20120303', '2013/04/04', '2014-05-05', '2015-06-06T12:20'])\n",
    "\n",
    "# Solution 1\n",
    "from dateutil.parser import parse\n",
    "ser = ser.map(lambda x: parse(x))\n"
   ]
  },
  {
   "cell_type": "code",
   "execution_count": 59,
   "metadata": {},
   "outputs": [
    {
     "name": "stdout",
     "output_type": "stream",
     "text": [
      "Date:  [1, 2, 3, 4, 5, 6]\n",
      "Date:  [4, 2, 5, 3, 0, 5]\n",
      "Date:  [1, 33, 63, 94, 125, 157]\n",
      "Date:  [2010, 2011, 2012, 2013, 2014, 2015]\n"
     ]
    }
   ],
   "source": [
    "print(\"Date: \", ser.dt.day.tolist())\n",
    "print(\"Date: \", ser.dt.day_of_week.tolist())\n",
    "print(\"Date: \", ser.dt.dayofyear.tolist())\n",
    "print(\"Date: \", ser.dt.year.tolist())"
   ]
  },
  {
   "cell_type": "code",
   "execution_count": 64,
   "metadata": {},
   "outputs": [
    {
     "data": {
      "text/plain": [
       "0    2010-1-04\n",
       "1    2011-2-04\n",
       "2    2012-3-04\n",
       "3    2013-4-04\n",
       "4    2014-5-04\n",
       "5    2015-6-04\n",
       "dtype: object"
      ]
     },
     "execution_count": 64,
     "metadata": {},
     "output_type": "execute_result"
    }
   ],
   "source": [
    "ser.dt.year.astype(str)+'-'+ser.dt.month.astype(str)+'-'+'04'"
   ]
  },
  {
   "cell_type": "code",
   "execution_count": 65,
   "metadata": {},
   "outputs": [
    {
     "data": {
      "text/plain": [
       "0     Apple\n",
       "1    Orange\n",
       "4     Money\n",
       "dtype: object"
      ]
     },
     "execution_count": 65,
     "metadata": {},
     "output_type": "execute_result"
    }
   ],
   "source": [
    "# Input\n",
    "ser = pd.Series(['Apple', 'Orange', 'Plan', 'Python', 'Money'])\n",
    "\n",
    "# Solution\n",
    "from collections import Counter\n",
    "mask = ser.map(lambda x: sum([Counter(x.lower()).get(i, 0) for i in list('aeiou')]) >= 2)\n",
    "ser[mask]\n"
   ]
  },
  {
   "cell_type": "code",
   "execution_count": 66,
   "metadata": {},
   "outputs": [
    {
     "data": {
      "text/plain": [
       "['rameses@egypt.com', 'matt@t.co', 'narendra@modi.com']"
      ]
     },
     "execution_count": 66,
     "metadata": {},
     "output_type": "execute_result"
    }
   ],
   "source": [
    "# Input\n",
    "emails = pd.Series(['buying books at amazom.com', 'rameses@egypt.com', 'matt@t.co', 'narendra@modi.com'])\n",
    "\n",
    "# Solution 1 (as series of strings)\n",
    "import re\n",
    "pattern ='[A-Za-z0-9._%+-]+@[A-Za-z0-9.-]+\\\\.[A-Za-z]{2,4}'\n",
    "mask = emails.map(lambda x: bool(re.match(pattern, x)))\n",
    "emails[mask]\n",
    "\n",
    "# Solution 2 (as series of list)\n",
    "emails.str.findall(pattern, flags=re.IGNORECASE)\n",
    "\n",
    "# Solution 3 (as list)\n",
    "[x[0] for x in [re.findall(pattern, email) for email in emails] if len(x) > 0]"
   ]
  },
  {
   "cell_type": "code",
   "execution_count": 67,
   "metadata": {},
   "outputs": [
    {
     "data": {
      "text/plain": [
       "['small', 'small', 'small', 'small']"
      ]
     },
     "execution_count": 67,
     "metadata": {},
     "output_type": "execute_result"
    }
   ],
   "source": [
    "# Input\n",
    "url = 'https://archive.ics.uci.edu/ml/machine-learning-databases/iris/iris.data'\n",
    "iris = np.genfromtxt(url, delimiter=',', dtype='object')\n",
    "names = ('sepallength', 'sepalwidth', 'petallength', 'petalwidth', 'species')\n",
    "\n",
    "# Bin petallength \n",
    "petal_length_bin = np.digitize(iris[:, 2].astype('float'), [0, 3, 5, 10])\n",
    "\n",
    "# Map it to respective category\n",
    "label_map = {1: 'small', 2: 'medium', 3: 'large', 4: np.nan}\n",
    "petal_length_cat = [label_map[x] for x in petal_length_bin]\n",
    "\n",
    "# View\n",
    "petal_length_cat[:4]\n"
   ]
  },
  {
   "cell_type": "code",
   "execution_count": 71,
   "metadata": {},
   "outputs": [
    {
     "data": {
      "text/plain": [
       "array([[b'5.1', b'3.5', b'1.4', b'0.2', b'Iris-setosa',\n",
       "        38.13265162927291],\n",
       "       [b'4.9', b'3.0', b'1.4', b'0.2', b'Iris-setosa',\n",
       "        35.200498485922445],\n",
       "       [b'4.7', b'3.2', b'1.3', b'0.2', b'Iris-setosa', 30.0723720777127],\n",
       "       [b'4.6', b'3.1', b'1.5', b'0.2', b'Iris-setosa',\n",
       "        33.238050274980004],\n",
       "       [b'5.0', b'3.6', b'1.4', b'0.2', b'Iris-setosa',\n",
       "        36.65191429188092],\n",
       "       [b'5.4', b'3.9', b'1.7', b'0.4', b'Iris-setosa',\n",
       "        51.911677007917746],\n",
       "       [b'4.6', b'3.4', b'1.4', b'0.3', b'Iris-setosa',\n",
       "        31.022180256648003],\n",
       "       [b'5.0', b'3.4', b'1.5', b'0.2', b'Iris-setosa',\n",
       "        39.269908169872416],\n",
       "       [b'4.4', b'2.9', b'1.4', b'0.2', b'Iris-setosa',\n",
       "        28.38324242763259],\n",
       "       [b'4.9', b'3.1', b'1.5', b'0.1', b'Iris-setosa',\n",
       "        37.714819806345474],\n",
       "       [b'5.4', b'3.7', b'1.5', b'0.2', b'Iris-setosa',\n",
       "        45.80442088933919],\n",
       "       [b'4.8', b'3.4', b'1.6', b'0.2', b'Iris-setosa',\n",
       "        38.60389052731138],\n",
       "       [b'4.8', b'3.0', b'1.4', b'0.1', b'Iris-setosa',\n",
       "        33.77840421139745],\n",
       "       [b'4.3', b'3.0', b'1.1', b'0.1', b'Iris-setosa',\n",
       "        21.298950993787603],\n",
       "       [b'5.8', b'4.0', b'1.2', b'0.2', b'Iris-setosa',\n",
       "        42.273270746704256],\n",
       "       [b'5.7', b'4.4', b'1.5', b'0.4', b'Iris-setosa',\n",
       "        51.03517265756619],\n",
       "       [b'5.4', b'3.9', b'1.3', b'0.4', b'Iris-setosa',\n",
       "        39.69716477076063],\n",
       "       [b'5.1', b'3.5', b'1.4', b'0.3', b'Iris-setosa',\n",
       "        38.13265162927291],\n",
       "       [b'5.7', b'3.8', b'1.7', b'0.3', b'Iris-setosa',\n",
       "        57.83986234524169],\n",
       "       [b'5.1', b'3.8', b'1.5', b'0.3', b'Iris-setosa',\n",
       "        40.85641245993526],\n",
       "       [b'5.4', b'3.4', b'1.7', b'0.2', b'Iris-setosa',\n",
       "        51.911677007917746],\n",
       "       [b'5.1', b'3.7', b'1.5', b'0.4', b'Iris-setosa',\n",
       "        40.85641245993526],\n",
       "       [b'4.6', b'3.6', b'1.0', b'0.2', b'Iris-setosa',\n",
       "        22.158700183320004],\n",
       "       [b'5.1', b'3.3', b'1.7', b'0.5', b'Iris-setosa',\n",
       "        46.303934121259964],\n",
       "       [b'4.8', b'3.4', b'1.9', b'0.2', b'Iris-setosa',\n",
       "        45.84212000118226],\n",
       "       [b'5.0', b'3.0', b'1.6', b'0.2', b'Iris-setosa',\n",
       "        41.88790204786391],\n",
       "       [b'5.0', b'3.4', b'1.6', b'0.4', b'Iris-setosa',\n",
       "        41.88790204786391],\n",
       "       [b'5.2', b'3.5', b'1.5', b'0.2', b'Iris-setosa',\n",
       "        42.47433267653401],\n",
       "       [b'5.2', b'3.4', b'1.4', b'0.2', b'Iris-setosa', 39.6427104980984],\n",
       "       [b'4.7', b'3.2', b'1.6', b'0.2', b'Iris-setosa',\n",
       "        37.01215024949256],\n",
       "       [b'4.8', b'3.1', b'1.6', b'0.2', b'Iris-setosa',\n",
       "        38.60389052731138],\n",
       "       [b'5.4', b'3.4', b'1.5', b'0.4', b'Iris-setosa',\n",
       "        45.80442088933919],\n",
       "       [b'5.2', b'4.1', b'1.5', b'0.1', b'Iris-setosa',\n",
       "        42.47433267653401],\n",
       "       [b'5.5', b'4.2', b'1.4', b'0.2', b'Iris-setosa',\n",
       "        44.34881629317591],\n",
       "       [b'4.9', b'3.1', b'1.5', b'0.1', b'Iris-setosa',\n",
       "        37.714819806345474],\n",
       "       [b'5.0', b'3.2', b'1.2', b'0.2', b'Iris-setosa',\n",
       "        31.415926535897928],\n",
       "       [b'5.5', b'3.5', b'1.3', b'0.2', b'Iris-setosa',\n",
       "        41.18104370080621],\n",
       "       [b'4.9', b'3.1', b'1.5', b'0.1', b'Iris-setosa',\n",
       "        37.714819806345474],\n",
       "       [b'4.4', b'3.0', b'1.3', b'0.2', b'Iris-setosa',\n",
       "        26.355867968515977],\n",
       "       [b'5.1', b'3.4', b'1.5', b'0.2', b'Iris-setosa',\n",
       "        40.85641245993526],\n",
       "       [b'5.0', b'3.5', b'1.3', b'0.3', b'Iris-setosa',\n",
       "        34.033920413889426],\n",
       "       [b'4.5', b'2.3', b'1.3', b'0.3', b'Iris-setosa',\n",
       "        27.567475535250434],\n",
       "       [b'4.4', b'3.2', b'1.3', b'0.2', b'Iris-setosa',\n",
       "        26.355867968515977],\n",
       "       [b'5.0', b'3.5', b'1.6', b'0.6', b'Iris-setosa',\n",
       "        41.88790204786391],\n",
       "       [b'5.1', b'3.8', b'1.9', b'0.4', b'Iris-setosa',\n",
       "        51.75145578258466],\n",
       "       [b'4.8', b'3.0', b'1.4', b'0.3', b'Iris-setosa',\n",
       "        33.77840421139745],\n",
       "       [b'5.1', b'3.8', b'1.6', b'0.2', b'Iris-setosa',\n",
       "        43.58017329059761],\n",
       "       [b'4.6', b'3.2', b'1.4', b'0.2', b'Iris-setosa',\n",
       "        31.022180256648003],\n",
       "       [b'5.3', b'3.7', b'1.5', b'0.2', b'Iris-setosa',\n",
       "        44.123668819668644],\n",
       "       [b'5.0', b'3.3', b'1.4', b'0.2', b'Iris-setosa',\n",
       "        36.65191429188092],\n",
       "       [b'7.0', b'3.2', b'4.7', b'1.4', b'Iris-versicolor',\n",
       "        241.16959604057647],\n",
       "       [b'6.4', b'3.2', b'4.5', b'1.5', b'Iris-versicolor',\n",
       "        193.01945263655693],\n",
       "       [b'6.9', b'3.1', b'4.9', b'1.5', b'Iris-versicolor',\n",
       "        244.29966952110314],\n",
       "       [b'5.5', b'2.3', b'4.0', b'1.3', b'Iris-versicolor',\n",
       "        126.71090369478833],\n",
       "       [b'6.5', b'2.8', b'4.6', b'1.5', b'Iris-versicolor',\n",
       "        203.52284407505874],\n",
       "       [b'5.7', b'2.8', b'4.5', b'1.3', b'Iris-versicolor',\n",
       "        153.10551797269858],\n",
       "       [b'6.3', b'3.3', b'4.7', b'1.6', b'Iris-versicolor',\n",
       "        195.34737279286693],\n",
       "       [b'4.9', b'2.4', b'3.3', b'1.0', b'Iris-versicolor',\n",
       "        82.97260357396004],\n",
       "       [b'6.6', b'2.9', b'4.6', b'1.3', b'Iris-versicolor',\n",
       "        209.8332565185694],\n",
       "       [b'5.2', b'2.7', b'3.9', b'1.4', b'Iris-versicolor',\n",
       "        110.43326495898843],\n",
       "       [b'5.0', b'2.0', b'3.5', b'1.0', b'Iris-versicolor',\n",
       "        91.62978572970229],\n",
       "       [b'5.9', b'3.0', b'4.2', b'1.5', b'Iris-versicolor',\n",
       "        153.102376380045],\n",
       "       [b'6.0', b'2.2', b'4.0', b'1.0', b'Iris-versicolor',\n",
       "        150.79644737231007],\n",
       "       [b'6.1', b'2.9', b'4.7', b'1.4', b'Iris-versicolor',\n",
       "        183.14123813611934],\n",
       "       [b'5.6', b'2.9', b'3.6', b'1.3', b'Iris-versicolor',\n",
       "        118.22441473989107],\n",
       "       [b'6.7', b'3.1', b'4.4', b'1.4', b'Iris-versicolor',\n",
       "        206.83827152214724],\n",
       "       [b'5.6', b'3.0', b'4.5', b'1.5', b'Iris-versicolor',\n",
       "        147.78051842486386],\n",
       "       [b'5.8', b'2.7', b'4.1', b'1.0', b'Iris-versicolor',\n",
       "        144.43367505123953],\n",
       "       [b'6.2', b'2.2', b'4.5', b'1.5', b'Iris-versicolor',\n",
       "        181.1442324059875],\n",
       "       [b'5.6', b'2.5', b'3.9', b'1.1', b'Iris-versicolor',\n",
       "        128.07644930154868],\n",
       "       [b'5.9', b'3.2', b'4.8', b'1.8', b'Iris-versicolor',\n",
       "        174.97414443433715],\n",
       "       [b'6.1', b'2.8', b'4.0', b'1.3', b'Iris-versicolor',\n",
       "        155.86488352010159],\n",
       "       [b'6.3', b'2.5', b'4.9', b'1.5', b'Iris-versicolor',\n",
       "        203.66002695426553],\n",
       "       [b'6.1', b'2.8', b'4.7', b'1.2', b'Iris-versicolor',\n",
       "        183.14123813611934],\n",
       "       [b'6.4', b'2.9', b'4.3', b'1.3', b'Iris-versicolor',\n",
       "        184.4408102971544],\n",
       "       [b'6.6', b'3.0', b'4.4', b'1.4', b'Iris-versicolor',\n",
       "        200.71007145254472],\n",
       "       [b'6.8', b'2.8', b'4.8', b'1.4', b'Iris-versicolor',\n",
       "        232.42759088318724],\n",
       "       [b'6.7', b'3.0', b'5.0', b'1.7', b'Iris-versicolor',\n",
       "        235.04349036607638],\n",
       "       [b'6.0', b'2.9', b'4.5', b'1.5', b'Iris-versicolor',\n",
       "        169.64600329384882],\n",
       "       [b'5.7', b'2.6', b'3.5', b'1.0', b'Iris-versicolor',\n",
       "        119.08206953432112],\n",
       "       [b'5.5', b'2.4', b'3.8', b'1.1', b'Iris-versicolor',\n",
       "        120.3753585100489],\n",
       "       [b'5.5', b'2.4', b'3.7', b'1.0', b'Iris-versicolor',\n",
       "        117.2075859176792],\n",
       "       [b'5.8', b'2.7', b'3.9', b'1.2', b'Iris-versicolor',\n",
       "        137.38812992678882],\n",
       "       [b'6.0', b'2.7', b'5.1', b'1.6', b'Iris-versicolor',\n",
       "        192.26547039969532],\n",
       "       [b'5.4', b'3.0', b'4.5', b'1.5', b'Iris-versicolor',\n",
       "        137.41326266801755],\n",
       "       [b'6.0', b'3.4', b'4.5', b'1.6', b'Iris-versicolor',\n",
       "        169.64600329384882],\n",
       "       [b'6.7', b'3.1', b'4.7', b'1.5', b'Iris-versicolor',\n",
       "        220.94088094411177],\n",
       "       [b'6.3', b'2.3', b'4.4', b'1.3', b'Iris-versicolor',\n",
       "        182.87839155076904],\n",
       "       [b'5.6', b'3.0', b'4.1', b'1.3', b'Iris-versicolor',\n",
       "        134.6444723426537],\n",
       "       [b'5.5', b'2.5', b'4.0', b'1.3', b'Iris-versicolor',\n",
       "        126.71090369478833],\n",
       "       [b'5.5', b'2.6', b'4.4', b'1.2', b'Iris-versicolor',\n",
       "        139.38199406426716],\n",
       "       [b'6.1', b'3.0', b'4.6', b'1.4', b'Iris-versicolor',\n",
       "        179.2446160481168],\n",
       "       [b'5.8', b'2.6', b'4.0', b'1.2', b'Iris-versicolor',\n",
       "        140.9109024890142],\n",
       "       [b'5.0', b'2.3', b'3.3', b'1.0', b'Iris-versicolor',\n",
       "        86.3937979737193],\n",
       "       [b'5.6', b'2.7', b'4.2', b'1.3', b'Iris-versicolor',\n",
       "        137.92848386320625],\n",
       "       [b'5.7', b'3.0', b'4.2', b'1.2', b'Iris-versicolor',\n",
       "        142.89848344118533],\n",
       "       [b'5.7', b'2.9', b'4.2', b'1.3', b'Iris-versicolor',\n",
       "        142.89848344118533],\n",
       "       [b'6.2', b'2.9', b'4.3', b'1.3', b'Iris-versicolor',\n",
       "        173.09337763238804],\n",
       "       [b'5.1', b'2.5', b'3.0', b'1.1', b'Iris-versicolor',\n",
       "        81.71282491987051],\n",
       "       [b'5.7', b'2.8', b'4.1', b'1.3', b'Iris-versicolor',\n",
       "        139.49613859734757],\n",
       "       [b'6.3', b'3.3', b'6.0', b'2.5', b'Iris-virginica',\n",
       "        249.37962484195774],\n",
       "       [b'5.8', b'2.7', b'5.1', b'1.9', b'Iris-virginica',\n",
       "        179.66140067349306],\n",
       "       [b'7.1', b'3.0', b'5.9', b'2.1', b'Iris-virginica',\n",
       "        311.4564484793409],\n",
       "       [b'6.3', b'2.9', b'5.6', b'1.8', b'Iris-virginica',\n",
       "        232.7543165191606],\n",
       "       [b'6.5', b'3.0', b'5.8', b'2.2', b'Iris-virginica',\n",
       "        256.61575992072625],\n",
       "       [b'7.6', b'3.0', b'6.6', b'2.1', b'Iris-virginica',\n",
       "        399.20846167696214],\n",
       "       [b'4.9', b'2.5', b'4.5', b'1.7', b'Iris-virginica',\n",
       "        113.14445941903642],\n",
       "       [b'7.3', b'2.9', b'6.3', b'1.8', b'Iris-virginica',\n",
       "        351.57249227058014],\n",
       "       [b'6.7', b'2.5', b'5.8', b'1.8', b'Iris-virginica',\n",
       "        272.65044882464855],\n",
       "       [b'7.2', b'3.6', b'6.1', b'2.5', b'Iris-virginica',\n",
       "        331.1489984295929],\n",
       "       [b'6.5', b'3.2', b'5.1', b'2.0', b'Iris-virginica',\n",
       "        225.64489234408688],\n",
       "       [b'6.4', b'2.7', b'5.3', b'1.9', b'Iris-virginica',\n",
       "        227.33402199416705],\n",
       "       [b'6.8', b'3.0', b'5.5', b'2.1', b'Iris-virginica',\n",
       "        266.3232812203187],\n",
       "       [b'5.7', b'2.5', b'5.0', b'2.0', b'Iris-virginica',\n",
       "        170.1172421918873],\n",
       "       [b'5.8', b'2.8', b'5.1', b'2.4', b'Iris-virginica',\n",
       "        179.66140067349306],\n",
       "       [b'6.4', b'3.2', b'5.3', b'2.3', b'Iris-virginica',\n",
       "        227.33402199416705],\n",
       "       [b'6.5', b'3.0', b'5.5', b'1.8', b'Iris-virginica',\n",
       "        243.34253095930936],\n",
       "       [b'7.7', b'3.8', b'6.7', b'2.2', b'Iris-virginica',\n",
       "        415.99189682999014],\n",
       "       [b'7.7', b'2.6', b'6.9', b'2.3', b'Iris-virginica',\n",
       "        428.4095653920794],\n",
       "       [b'6.0', b'2.2', b'5.0', b'1.5', b'Iris-virginica',\n",
       "        188.4955592153876],\n",
       "       [b'6.9', b'3.2', b'5.7', b'2.3', b'Iris-virginica',\n",
       "        284.1853298510792],\n",
       "       [b'5.6', b'2.8', b'4.9', b'2.0', b'Iris-virginica',\n",
       "        160.91656450707399],\n",
       "       [b'7.7', b'2.8', b'6.7', b'2.0', b'Iris-virginica',\n",
       "        415.99189682999014],\n",
       "       [b'6.3', b'2.7', b'4.9', b'1.8', b'Iris-virginica',\n",
       "        203.66002695426553],\n",
       "       [b'6.7', b'3.3', b'5.7', b'2.1', b'Iris-virginica',\n",
       "        267.94957901732704],\n",
       "       [b'7.2', b'3.2', b'6.0', b'1.8', b'Iris-virginica',\n",
       "        325.7203263241898],\n",
       "       [b'6.2', b'2.8', b'4.8', b'1.8', b'Iris-virginica',\n",
       "        193.22051456638667],\n",
       "       [b'6.1', b'3.0', b'4.9', b'1.8', b'Iris-virginica',\n",
       "        190.93448231212446],\n",
       "       [b'6.4', b'2.8', b'5.6', b'2.1', b'Iris-virginica',\n",
       "        240.20198550327083],\n",
       "       [b'7.2', b'3.0', b'5.8', b'1.6', b'Iris-virginica',\n",
       "        314.86298211338345],\n",
       "       [b'7.4', b'2.8', b'6.1', b'1.9', b'Iris-virginica',\n",
       "        349.8016812115067],\n",
       "       [b'7.9', b'3.8', b'6.4', b'2.0', b'Iris-virginica',\n",
       "        418.27583468914986],\n",
       "       [b'6.4', b'2.8', b'5.6', b'2.2', b'Iris-virginica',\n",
       "        240.20198550327083],\n",
       "       [b'6.3', b'2.8', b'5.1', b'1.5', b'Iris-virginica',\n",
       "        211.97268111566407],\n",
       "       [b'6.1', b'2.6', b'5.6', b'1.4', b'Iris-virginica',\n",
       "        218.2108369281422],\n",
       "       [b'7.7', b'3.0', b'6.1', b'2.3', b'Iris-virginica',\n",
       "        378.73889114372236],\n",
       "       [b'6.3', b'3.4', b'5.6', b'2.4', b'Iris-virginica',\n",
       "        232.7543165191606],\n",
       "       [b'6.4', b'3.1', b'5.5', b'1.8', b'Iris-virginica',\n",
       "        235.91266433356955],\n",
       "       [b'6.0', b'3.0', b'4.8', b'1.8', b'Iris-virginica',\n",
       "        180.95573684677208],\n",
       "       [b'6.9', b'3.1', b'5.4', b'2.1', b'Iris-virginica',\n",
       "        269.22820722733815],\n",
       "       [b'6.7', b'3.1', b'5.6', b'2.4', b'Iris-virginica',\n",
       "        263.24870921000553],\n",
       "       [b'6.9', b'3.1', b'5.1', b'2.3', b'Iris-virginica',\n",
       "        254.27108460359707],\n",
       "       [b'5.8', b'2.7', b'5.1', b'1.9', b'Iris-virginica',\n",
       "        179.66140067349306],\n",
       "       [b'6.8', b'3.2', b'5.9', b'2.3', b'Iris-virginica',\n",
       "        285.692247127251],\n",
       "       [b'6.7', b'3.3', b'5.7', b'2.5', b'Iris-virginica',\n",
       "        267.94957901732704],\n",
       "       [b'6.7', b'3.0', b'5.2', b'2.3', b'Iris-virginica',\n",
       "        244.4452299807194],\n",
       "       [b'6.3', b'2.5', b'5.0', b'1.9', b'Iris-virginica',\n",
       "        207.8163540349648],\n",
       "       [b'6.5', b'3.0', b'5.2', b'2.0', b'Iris-virginica',\n",
       "        230.0693019978925],\n",
       "       [b'6.2', b'3.4', b'5.4', b'2.3', b'Iris-virginica',\n",
       "        217.373078887185],\n",
       "       [b'5.9', b'3.0', b'5.1', b'1.8', b'Iris-virginica',\n",
       "        185.9100284614832]], dtype=object)"
      ]
     },
     "execution_count": 71,
     "metadata": {},
     "output_type": "execute_result"
    }
   ],
   "source": [
    "url = 'https://archive.ics.uci.edu/ml/machine-learning-databases/iris/iris.data'\n",
    "iris_2d = np.genfromtxt(url, delimiter=',', dtype='object')\n",
    "\n",
    "# Solution\n",
    "# Compute volume\n",
    "sepallength = iris_2d[:, 0].astype('float')\n",
    "petallength = iris_2d[:, 2].astype('float')\n",
    "volume = (np.pi*(petallength)*(sepallength**2))/3\n",
    "volume = volume[:, np.newaxis]\n",
    "out = np.hstack([iris_2d,volume])\n",
    "out"
   ]
  },
  {
   "cell_type": "code",
   "execution_count": 77,
   "metadata": {},
   "outputs": [
    {
     "name": "stdout",
     "output_type": "stream",
     "text": [
      "(array(['Iris-setosa', 'Iris-versicolor', 'Iris-virginica'], dtype='<U15'), array([77, 37, 36], dtype=int64))\n"
     ]
    }
   ],
   "source": [
    "# Import iris keeping the text column intact\n",
    "url = 'https://archive.ics.uci.edu/ml/machine-learning-databases/iris/iris.data'\n",
    "iris = np.genfromtxt(url, delimiter=',', dtype='object')\n",
    "\n",
    "# Solution\n",
    "# Get the species column\n",
    "species = iris[:, 4]\n",
    "\n",
    "# Approach 1: Generate Probablistically\n",
    "np.random.seed(100)\n",
    "a = np.array(['Iris-setosa', 'Iris-versicolor', 'Iris-virginica'])\n",
    "species_out = np.random.choice(a, 150, p=[0.5, 0.25, 0.25])\n",
    "print(np.unique(species_out, return_counts=True))"
   ]
  },
  {
   "cell_type": "code",
   "execution_count": 78,
   "metadata": {},
   "outputs": [
    {
     "name": "stdout",
     "output_type": "stream",
     "text": [
      "(array([b'Iris-setosa', b'Iris-versicolor', b'Iris-virginica'],\n",
      "      dtype=object), array([77, 37, 36], dtype=int64))\n"
     ]
    }
   ],
   "source": [
    "\n",
    "# Approach 2: Probablistic Sampling (preferred)\n",
    "np.random.seed(100)\n",
    "probs = np.r_[np.linspace(0, 0.500, num=50), np.linspace(0.501, .750, num=50), np.linspace(.751, 1.0, num=50)]\n",
    "index = np.searchsorted(probs, np.random.random(150))\n",
    "species_out = species[index]\n",
    "print(np.unique(species_out, return_counts=True))"
   ]
  },
  {
   "cell_type": "code",
   "execution_count": 83,
   "metadata": {},
   "outputs": [
    {
     "data": {
      "text/plain": [
       "array([1.4, 1.4, 1.3, 1.5, 1.4, 1.7, 1.4, 1.5, 1.4, 1.5, 1.5, 1.6, 1.4,\n",
       "       1.1, 1.2, 1.5, 1.3, 1.4, 1.7, 1.5, 1.7, 1.5, 1. , 1.7, 1.9, 1.6,\n",
       "       1.6, 1.5, 1.4, 1.6, 1.6, 1.5, 1.5, 1.4, 1.5, 1.2, 1.3, 1.5, 1.3,\n",
       "       1.5, 1.3, 1.3, 1.3, 1.6, 1.9, 1.4, 1.6, 1.4, 1.5, 1.4])"
      ]
     },
     "execution_count": 83,
     "metadata": {},
     "output_type": "execute_result"
    }
   ],
   "source": [
    "iris_p_len = iris[iris[:,4]==b'Iris-setosa',[2]].astype('float')\n",
    "iris_p_len"
   ]
  },
  {
   "cell_type": "code",
   "execution_count": 84,
   "metadata": {},
   "outputs": [
    {
     "name": "stdout",
     "output_type": "stream",
     "text": [
      "[[b'4.3' b'3.0' b'1.1' b'0.1' b'Iris-setosa']\n",
      " [b'4.4' b'3.2' b'1.3' b'0.2' b'Iris-setosa']\n",
      " [b'4.4' b'3.0' b'1.3' b'0.2' b'Iris-setosa']\n",
      " [b'4.4' b'2.9' b'1.4' b'0.2' b'Iris-setosa']\n",
      " [b'4.5' b'2.3' b'1.3' b'0.3' b'Iris-setosa']\n",
      " [b'4.6' b'3.6' b'1.0' b'0.2' b'Iris-setosa']\n",
      " [b'4.6' b'3.1' b'1.5' b'0.2' b'Iris-setosa']\n",
      " [b'4.6' b'3.4' b'1.4' b'0.3' b'Iris-setosa']\n",
      " [b'4.6' b'3.2' b'1.4' b'0.2' b'Iris-setosa']\n",
      " [b'4.7' b'3.2' b'1.3' b'0.2' b'Iris-setosa']\n",
      " [b'4.7' b'3.2' b'1.6' b'0.2' b'Iris-setosa']\n",
      " [b'4.8' b'3.0' b'1.4' b'0.1' b'Iris-setosa']\n",
      " [b'4.8' b'3.0' b'1.4' b'0.3' b'Iris-setosa']\n",
      " [b'4.8' b'3.4' b'1.9' b'0.2' b'Iris-setosa']\n",
      " [b'4.8' b'3.4' b'1.6' b'0.2' b'Iris-setosa']\n",
      " [b'4.8' b'3.1' b'1.6' b'0.2' b'Iris-setosa']\n",
      " [b'4.9' b'2.4' b'3.3' b'1.0' b'Iris-versicolor']\n",
      " [b'4.9' b'2.5' b'4.5' b'1.7' b'Iris-virginica']\n",
      " [b'4.9' b'3.1' b'1.5' b'0.1' b'Iris-setosa']\n",
      " [b'4.9' b'3.1' b'1.5' b'0.1' b'Iris-setosa']]\n"
     ]
    }
   ],
   "source": [
    "print(iris[iris[:,0].argsort()][:20])"
   ]
  },
  {
   "cell_type": "code",
   "execution_count": 89,
   "metadata": {},
   "outputs": [
    {
     "name": "stdout",
     "output_type": "stream",
     "text": [
      "[b'1.0' b'1.1' b'1.2' b'1.3' b'1.4' b'1.5' b'1.6' b'1.7' b'1.9' b'3.0'\n",
      " b'3.3' b'3.5' b'3.6' b'3.7' b'3.8' b'3.9' b'4.0' b'4.1' b'4.2' b'4.3'\n",
      " b'4.4' b'4.5' b'4.6' b'4.7' b'4.8' b'4.9' b'5.0' b'5.1' b'5.2' b'5.3'\n",
      " b'5.4' b'5.5' b'5.6' b'5.7' b'5.8' b'5.9' b'6.0' b'6.1' b'6.3' b'6.4'\n",
      " b'6.6' b'6.7' b'6.9'] [ 1  1  2  7 12 14  7  4  2  1  2  2  1  1  1  3  5  3  4  2  4  8  3  5\n",
      "  4  5  4  8  2  2  2  3  6  3  3  2  2  3  1  1  1  2  1]\n",
      "b'1.5'\n"
     ]
    }
   ],
   "source": [
    "vals,counts = np.unique(iris[:,2],return_counts=True)\n",
    "print(vals,counts)\n",
    "print(vals[np.argmax(counts)])"
   ]
  },
  {
   "cell_type": "code",
   "execution_count": 92,
   "metadata": {},
   "outputs": [
    {
     "data": {
      "text/plain": [
       "array([50], dtype=int64)"
      ]
     },
     "execution_count": 92,
     "metadata": {},
     "output_type": "execute_result"
    }
   ],
   "source": [
    "np.argwhere(iris[:,3].astype('float')>1.0)[0]"
   ]
  },
  {
   "cell_type": "code",
   "execution_count": 98,
   "metadata": {},
   "outputs": [
    {
     "name": "stdout",
     "output_type": "stream",
     "text": [
      "[30.65048974 28.40164688 43.15931535 46.0680126  42.63075896 13.46886024\n",
      " 44.00022157 22.32137931 36.74522285 21.21939761 10.35096624 35.59495648\n",
      " 12.79100823 42.71489691 41.38101217 26.73537754 19.93069892 29.95315875\n",
      "  7.73865713 40.60524999]\n"
     ]
    },
    {
     "data": {
      "text/plain": [
       "array([30.        , 28.40164688, 30.        , 30.        , 30.        ,\n",
       "       13.46886024, 30.        , 22.32137931, 30.        , 21.21939761,\n",
       "       10.35096624, 30.        , 12.79100823, 30.        , 30.        ,\n",
       "       26.73537754, 19.93069892, 29.95315875, 10.        , 30.        ])"
      ]
     },
     "execution_count": 98,
     "metadata": {},
     "output_type": "execute_result"
    }
   ],
   "source": [
    "a = np.random.uniform(1,50, 20)\n",
    "print(a)\n",
    "np.clip(a, a_min=10, a_max=30)"
   ]
  },
  {
   "cell_type": "code",
   "execution_count": 103,
   "metadata": {},
   "outputs": [
    {
     "data": {
      "text/plain": [
       "array([42.63075896, 42.71489691, 43.15931535, 44.00022157, 46.0680126 ])"
      ]
     },
     "execution_count": 103,
     "metadata": {},
     "output_type": "execute_result"
    }
   ],
   "source": [
    "a[a.argsort()][-5:]"
   ]
  },
  {
   "cell_type": "code",
   "execution_count": 108,
   "metadata": {},
   "outputs": [
    {
     "name": "stdout",
     "output_type": "stream",
     "text": [
      "[18 10 12  5 16  9  7 15  1 17  0 11  8 19 14  4 13  2  6  3]\n"
     ]
    }
   ],
   "source": [
    "print(a.argsort())"
   ]
  },
  {
   "cell_type": "code",
   "execution_count": 113,
   "metadata": {},
   "outputs": [
    {
     "name": "stdout",
     "output_type": "stream",
     "text": [
      "[ 1  2  3  4  5  6  7  8  9 10]\n"
     ]
    },
    {
     "name": "stderr",
     "output_type": "stream",
     "text": [
      "C:\\Users\\mukes\\AppData\\Local\\Temp\\ipykernel_8804\\2547585372.py:7: DeprecationWarning: Conversion of an array with ndim > 0 to a scalar is deprecated, and will error in future. Ensure you extract a single element from your array before performing this operation. (Deprecated NumPy 1.25.)\n",
      "  return([[int(b[a==i]) if i in a else 0 for i in np.unique(arr2d)] for a, b in num_counts_array])\n"
     ]
    },
    {
     "data": {
      "text/plain": [
       "[[0, 0, 2, 1, 1, 0, 2, 2, 0, 2],\n",
       " [2, 1, 1, 2, 2, 1, 0, 0, 1, 0],\n",
       " [0, 1, 2, 2, 1, 0, 2, 1, 1, 0],\n",
       " [1, 0, 1, 2, 1, 0, 2, 2, 0, 1],\n",
       " [2, 2, 0, 2, 1, 1, 1, 0, 1, 0],\n",
       " [3, 0, 1, 0, 0, 0, 2, 1, 2, 1]]"
      ]
     },
     "execution_count": 113,
     "metadata": {},
     "output_type": "execute_result"
    }
   ],
   "source": [
    "arr = np.random.randint(1,11,size=(6, 10))\n",
    "def counts_of_all_values_rowwise(arr2d):\n",
    "    # Unique values and its counts row wise\n",
    "    num_counts_array = [np.unique(row, return_counts=True) for row in arr2d]\n",
    "\n",
    "    # Counts of all values row wise\n",
    "    return([[int(b[a==i]) if i in a else 0 for i in np.unique(arr2d)] for a, b in num_counts_array])\n",
    "\n",
    "# Print\n",
    "print(np.arange(1,11))\n",
    "counts_of_all_values_rowwise(arr)"
   ]
  },
  {
   "cell_type": "code",
   "execution_count": 114,
   "metadata": {},
   "outputs": [
    {
     "name": "stdout",
     "output_type": "stream",
     "text": [
      "[' ' 'a' 'b' 'c' 'd' 'e' 'h' 'i' 'j' 'l' 'm' 'n' 'o' 'r' 't' 'y']\n"
     ]
    },
    {
     "name": "stderr",
     "output_type": "stream",
     "text": [
      "C:\\Users\\mukes\\AppData\\Local\\Temp\\ipykernel_8804\\2547585372.py:7: DeprecationWarning: Conversion of an array with ndim > 0 to a scalar is deprecated, and will error in future. Ensure you extract a single element from your array before performing this operation. (Deprecated NumPy 1.25.)\n",
      "  return([[int(b[a==i]) if i in a else 0 for i in np.unique(arr2d)] for a, b in num_counts_array])\n"
     ]
    },
    {
     "data": {
      "text/plain": [
       "[[1, 0, 1, 1, 0, 0, 0, 2, 0, 3, 0, 2, 1, 0, 1, 0],\n",
       " [0, 2, 0, 0, 2, 1, 0, 1, 0, 0, 1, 2, 1, 2, 0, 0],\n",
       " [0, 4, 0, 0, 0, 0, 1, 1, 2, 2, 0, 0, 0, 0, 1, 1]]"
      ]
     },
     "execution_count": 114,
     "metadata": {},
     "output_type": "execute_result"
    }
   ],
   "source": [
    "arr = np.array([np.array(list('bill clinton')), np.array(list('narendramodi')), np.array(list('jjayalalitha'))])\n",
    "print(np.unique(arr))\n",
    "counts_of_all_values_rowwise(arr)"
   ]
  },
  {
   "cell_type": "code",
   "execution_count": 115,
   "metadata": {},
   "outputs": [
    {
     "name": "stdout",
     "output_type": "stream",
     "text": [
      "[0, 0, 0, 0, 0, 1, 1, 1, 1, 1, 1, 1, 1, 1, 2, 2, 2, 2, 2, 2]\n"
     ]
    }
   ],
   "source": [
    "url = 'https://archive.ics.uci.edu/ml/machine-learning-databases/iris/iris.data'\n",
    "species = np.genfromtxt(url, delimiter=',', dtype='str', usecols=4)\n",
    "np.random.seed(100)\n",
    "species_small = np.sort(np.random.choice(species, size=20))\n",
    "species_small\n",
    "\n",
    "output = []\n",
    "uniqs = np.unique(species_small)\n",
    "\n",
    "for val in uniqs:  # uniq values in group\n",
    "    for s in species_small[species_small==val]:  # each element in group\n",
    "        groupid = np.argwhere(uniqs == s).tolist()[0][0]  # groupid\n",
    "        output.append(groupid)\n",
    "\n",
    "print(output)"
   ]
  },
  {
   "cell_type": "code",
   "execution_count": 3,
   "metadata": {},
   "outputs": [],
   "source": [
    "df = pd.read_csv('https://raw.githubusercontent.com/selva86/datasets/master/Cars93_miss.csv')"
   ]
  },
  {
   "cell_type": "code",
   "execution_count": 4,
   "metadata": {},
   "outputs": [
    {
     "data": {
      "text/plain": [
       "Manufacturer           4\n",
       "Model                  1\n",
       "Type                   3\n",
       "Min.Price              7\n",
       "Price                  2\n",
       "Max.Price              5\n",
       "MPG.city               9\n",
       "MPG.highway            2\n",
       "AirBags               38\n",
       "DriveTrain             7\n",
       "Cylinders              5\n",
       "EngineSize             2\n",
       "Horsepower             7\n",
       "RPM                    3\n",
       "Rev.per.mile           6\n",
       "Man.trans.avail        5\n",
       "Fuel.tank.capacity     8\n",
       "Passengers             2\n",
       "Length                 4\n",
       "Wheelbase              1\n",
       "Width                  6\n",
       "Turn.circle            5\n",
       "Rear.seat.room         4\n",
       "Luggage.room          19\n",
       "Weight                 7\n",
       "Origin                 5\n",
       "Make                   3\n",
       "dtype: int64"
      ]
     },
     "execution_count": 4,
     "metadata": {},
     "output_type": "execute_result"
    }
   ],
   "source": [
    "df.isna().sum()"
   ]
  },
  {
   "cell_type": "code",
   "execution_count": 8,
   "metadata": {},
   "outputs": [],
   "source": [
    "d = {'Min.Price': np.nanmean, 'Max.Price': np.nanmedian}\n",
    "df[['Min.Price', 'Max.Price']] = df[['Min.Price', 'Max.Price']].apply(lambda x, d: x.fillna(d[x.name](x)), args=(d, ))"
   ]
  },
  {
   "cell_type": "code",
   "execution_count": 9,
   "metadata": {},
   "outputs": [
    {
     "data": {
      "text/plain": [
       "pandas.core.frame.DataFrame"
      ]
     },
     "execution_count": 9,
     "metadata": {},
     "output_type": "execute_result"
    }
   ],
   "source": [
    "df = pd.DataFrame(np.arange(20).reshape(-1, 5), columns=list('abcde'))\n",
    "\n",
    "# Solution\n",
    "type(df[['a']])\n",
    "type(df.loc[:, ['a']])\n",
    "type(df.iloc[:, [0]])"
   ]
  },
  {
   "cell_type": "code",
   "execution_count": 10,
   "metadata": {},
   "outputs": [
    {
     "name": "stdout",
     "output_type": "stream",
     "text": [
      "   random\n",
      "0  0.0001\n",
      "1  0.9469\n",
      "2  0.1485\n",
      "3  0.0000\n"
     ]
    },
    {
     "name": "stderr",
     "output_type": "stream",
     "text": [
      "C:\\Users\\mukes\\AppData\\Local\\Temp\\ipykernel_12016\\2662863825.py:8: FutureWarning: Calling float on a single element Series is deprecated and will raise a TypeError in the future. Use float(ser.iloc[0]) instead\n",
      "  df.apply(lambda x: '%.4f' % x, axis=1)\n"
     ]
    }
   ],
   "source": [
    "# Input\n",
    "df = pd.DataFrame(np.random.random(4)**10, columns=['random'])\n",
    "\n",
    "# Solution 1: Rounding\n",
    "df.round(4)\n",
    "\n",
    "# Solution 2: Use apply to change format\n",
    "df.apply(lambda x: '%.4f' % x, axis=1)\n",
    "# or\n",
    "df.applymap(lambda x: '%.4f' % x)\n",
    "\n",
    "# Solution 3: Use set_option\n",
    "pd.set_option('display.float_format', lambda x: '%.4f' % x)\n",
    "\n",
    "# Solution 4: Assign display.float_format\n",
    "pd.options.display.float_format = '{:.4f}'.format\n",
    "print(df)\n",
    "\n",
    "# Reset/undo float formatting\n",
    "pd.options.display.float_format = None"
   ]
  },
  {
   "cell_type": "code",
   "execution_count": 13,
   "metadata": {},
   "outputs": [
    {
     "name": "stdout",
     "output_type": "stream",
     "text": [
      "   Manufacturer    Model     Type\n",
      "0         Acura  Integra    Small\n",
      "20     Chrysler  LeBaron  Compact\n",
      "40        Honda  Prelude   Sporty\n",
      "60      Mercury   Cougar  Midsize\n",
      "80       Subaru   Loyale    Small\n"
     ]
    }
   ],
   "source": [
    "# Input\n",
    "df = pd.read_csv('https://raw.githubusercontent.com/selva86/datasets/master/Cars93_miss.csv')\n",
    "\n",
    "# Solution\n",
    "print(df.iloc[::20, :][['Manufacturer', 'Model', 'Type']])"
   ]
  },
  {
   "cell_type": "code",
   "execution_count": 14,
   "metadata": {},
   "outputs": [
    {
     "name": "stdout",
     "output_type": "stream",
     "text": [
      "True\n"
     ]
    }
   ],
   "source": [
    "df[['Manufacturer', 'Model', 'Type']] = df[['Manufacturer', 'Model', 'Type']].fillna('missing')\n",
    "df.index = df.Manufacturer + '_' + df.Model + '_' + df.Type\n",
    "print(df.index.is_unique)"
   ]
  },
  {
   "cell_type": "code",
   "execution_count": 15,
   "metadata": {},
   "outputs": [
    {
     "data": {
      "text/html": [
       "<div>\n",
       "<style scoped>\n",
       "    .dataframe tbody tr th:only-of-type {\n",
       "        vertical-align: middle;\n",
       "    }\n",
       "\n",
       "    .dataframe tbody tr th {\n",
       "        vertical-align: top;\n",
       "    }\n",
       "\n",
       "    .dataframe thead th {\n",
       "        text-align: right;\n",
       "    }\n",
       "</style>\n",
       "<table border=\"1\" class=\"dataframe\">\n",
       "  <thead>\n",
       "    <tr style=\"text-align: right;\">\n",
       "      <th></th>\n",
       "      <th>Manufacturer</th>\n",
       "      <th>Model</th>\n",
       "      <th>Type</th>\n",
       "      <th>Min.Price</th>\n",
       "      <th>Price</th>\n",
       "      <th>Max.Price</th>\n",
       "      <th>MPG.city</th>\n",
       "      <th>MPG.highway</th>\n",
       "      <th>AirBags</th>\n",
       "      <th>DriveTrain</th>\n",
       "      <th>...</th>\n",
       "      <th>Passengers</th>\n",
       "      <th>Length</th>\n",
       "      <th>Wheelbase</th>\n",
       "      <th>Width</th>\n",
       "      <th>Turn.circle</th>\n",
       "      <th>Rear.seat.room</th>\n",
       "      <th>Luggage.room</th>\n",
       "      <th>Weight</th>\n",
       "      <th>Origin</th>\n",
       "      <th>Make</th>\n",
       "    </tr>\n",
       "  </thead>\n",
       "  <tbody>\n",
       "    <tr>\n",
       "      <th>Acura_Integra_Small</th>\n",
       "      <td>Acura</td>\n",
       "      <td>Integra</td>\n",
       "      <td>Small</td>\n",
       "      <td>12.9</td>\n",
       "      <td>15.9</td>\n",
       "      <td>18.8</td>\n",
       "      <td>25.0</td>\n",
       "      <td>31.0</td>\n",
       "      <td>NaN</td>\n",
       "      <td>Front</td>\n",
       "      <td>...</td>\n",
       "      <td>5.0</td>\n",
       "      <td>177.0</td>\n",
       "      <td>102.0</td>\n",
       "      <td>68.0</td>\n",
       "      <td>37.0</td>\n",
       "      <td>26.5</td>\n",
       "      <td>NaN</td>\n",
       "      <td>2705.0</td>\n",
       "      <td>non-USA</td>\n",
       "      <td>Acura Integra</td>\n",
       "    </tr>\n",
       "    <tr>\n",
       "      <th>missing_Legend_Midsize</th>\n",
       "      <td>missing</td>\n",
       "      <td>Legend</td>\n",
       "      <td>Midsize</td>\n",
       "      <td>29.2</td>\n",
       "      <td>33.9</td>\n",
       "      <td>38.7</td>\n",
       "      <td>18.0</td>\n",
       "      <td>25.0</td>\n",
       "      <td>Driver &amp; Passenger</td>\n",
       "      <td>Front</td>\n",
       "      <td>...</td>\n",
       "      <td>5.0</td>\n",
       "      <td>195.0</td>\n",
       "      <td>115.0</td>\n",
       "      <td>71.0</td>\n",
       "      <td>38.0</td>\n",
       "      <td>30.0</td>\n",
       "      <td>15.0</td>\n",
       "      <td>3560.0</td>\n",
       "      <td>non-USA</td>\n",
       "      <td>Acura Legend</td>\n",
       "    </tr>\n",
       "    <tr>\n",
       "      <th>Audi_90_Compact</th>\n",
       "      <td>Audi</td>\n",
       "      <td>90</td>\n",
       "      <td>Compact</td>\n",
       "      <td>25.9</td>\n",
       "      <td>29.1</td>\n",
       "      <td>32.3</td>\n",
       "      <td>20.0</td>\n",
       "      <td>26.0</td>\n",
       "      <td>Driver only</td>\n",
       "      <td>Front</td>\n",
       "      <td>...</td>\n",
       "      <td>5.0</td>\n",
       "      <td>180.0</td>\n",
       "      <td>102.0</td>\n",
       "      <td>67.0</td>\n",
       "      <td>37.0</td>\n",
       "      <td>28.0</td>\n",
       "      <td>14.0</td>\n",
       "      <td>3375.0</td>\n",
       "      <td>non-USA</td>\n",
       "      <td>Audi 90</td>\n",
       "    </tr>\n",
       "    <tr>\n",
       "      <th>Audi_100_Midsize</th>\n",
       "      <td>Audi</td>\n",
       "      <td>100</td>\n",
       "      <td>Midsize</td>\n",
       "      <td>NaN</td>\n",
       "      <td>37.7</td>\n",
       "      <td>44.6</td>\n",
       "      <td>19.0</td>\n",
       "      <td>26.0</td>\n",
       "      <td>Driver &amp; Passenger</td>\n",
       "      <td>NaN</td>\n",
       "      <td>...</td>\n",
       "      <td>6.0</td>\n",
       "      <td>193.0</td>\n",
       "      <td>106.0</td>\n",
       "      <td>NaN</td>\n",
       "      <td>37.0</td>\n",
       "      <td>31.0</td>\n",
       "      <td>17.0</td>\n",
       "      <td>3405.0</td>\n",
       "      <td>non-USA</td>\n",
       "      <td>Audi 100</td>\n",
       "    </tr>\n",
       "    <tr>\n",
       "      <th>BMW_535i_Midsize</th>\n",
       "      <td>BMW</td>\n",
       "      <td>535i</td>\n",
       "      <td>Midsize</td>\n",
       "      <td>NaN</td>\n",
       "      <td>30.0</td>\n",
       "      <td>NaN</td>\n",
       "      <td>22.0</td>\n",
       "      <td>30.0</td>\n",
       "      <td>NaN</td>\n",
       "      <td>Rear</td>\n",
       "      <td>...</td>\n",
       "      <td>4.0</td>\n",
       "      <td>186.0</td>\n",
       "      <td>109.0</td>\n",
       "      <td>69.0</td>\n",
       "      <td>39.0</td>\n",
       "      <td>27.0</td>\n",
       "      <td>13.0</td>\n",
       "      <td>3640.0</td>\n",
       "      <td>non-USA</td>\n",
       "      <td>BMW 535i</td>\n",
       "    </tr>\n",
       "    <tr>\n",
       "      <th>...</th>\n",
       "      <td>...</td>\n",
       "      <td>...</td>\n",
       "      <td>...</td>\n",
       "      <td>...</td>\n",
       "      <td>...</td>\n",
       "      <td>...</td>\n",
       "      <td>...</td>\n",
       "      <td>...</td>\n",
       "      <td>...</td>\n",
       "      <td>...</td>\n",
       "      <td>...</td>\n",
       "      <td>...</td>\n",
       "      <td>...</td>\n",
       "      <td>...</td>\n",
       "      <td>...</td>\n",
       "      <td>...</td>\n",
       "      <td>...</td>\n",
       "      <td>...</td>\n",
       "      <td>...</td>\n",
       "      <td>...</td>\n",
       "      <td>...</td>\n",
       "    </tr>\n",
       "    <tr>\n",
       "      <th>Volkswagen_Eurovan_Van</th>\n",
       "      <td>Volkswagen</td>\n",
       "      <td>Eurovan</td>\n",
       "      <td>Van</td>\n",
       "      <td>16.6</td>\n",
       "      <td>19.7</td>\n",
       "      <td>22.7</td>\n",
       "      <td>17.0</td>\n",
       "      <td>21.0</td>\n",
       "      <td>NaN</td>\n",
       "      <td>Front</td>\n",
       "      <td>...</td>\n",
       "      <td>7.0</td>\n",
       "      <td>187.0</td>\n",
       "      <td>115.0</td>\n",
       "      <td>72.0</td>\n",
       "      <td>38.0</td>\n",
       "      <td>34.0</td>\n",
       "      <td>NaN</td>\n",
       "      <td>3960.0</td>\n",
       "      <td>NaN</td>\n",
       "      <td>Volkswagen Eurovan</td>\n",
       "    </tr>\n",
       "    <tr>\n",
       "      <th>Volkswagen_Passat_Compact</th>\n",
       "      <td>Volkswagen</td>\n",
       "      <td>Passat</td>\n",
       "      <td>Compact</td>\n",
       "      <td>17.6</td>\n",
       "      <td>20.0</td>\n",
       "      <td>22.4</td>\n",
       "      <td>21.0</td>\n",
       "      <td>30.0</td>\n",
       "      <td>NaN</td>\n",
       "      <td>Front</td>\n",
       "      <td>...</td>\n",
       "      <td>5.0</td>\n",
       "      <td>180.0</td>\n",
       "      <td>103.0</td>\n",
       "      <td>67.0</td>\n",
       "      <td>35.0</td>\n",
       "      <td>31.5</td>\n",
       "      <td>14.0</td>\n",
       "      <td>2985.0</td>\n",
       "      <td>non-USA</td>\n",
       "      <td>Volkswagen Passat</td>\n",
       "    </tr>\n",
       "    <tr>\n",
       "      <th>Volkswagen_Corrado_Sporty</th>\n",
       "      <td>Volkswagen</td>\n",
       "      <td>Corrado</td>\n",
       "      <td>Sporty</td>\n",
       "      <td>22.9</td>\n",
       "      <td>23.3</td>\n",
       "      <td>23.7</td>\n",
       "      <td>18.0</td>\n",
       "      <td>25.0</td>\n",
       "      <td>NaN</td>\n",
       "      <td>Front</td>\n",
       "      <td>...</td>\n",
       "      <td>4.0</td>\n",
       "      <td>159.0</td>\n",
       "      <td>97.0</td>\n",
       "      <td>66.0</td>\n",
       "      <td>36.0</td>\n",
       "      <td>26.0</td>\n",
       "      <td>15.0</td>\n",
       "      <td>2810.0</td>\n",
       "      <td>non-USA</td>\n",
       "      <td>Volkswagen Corrado</td>\n",
       "    </tr>\n",
       "    <tr>\n",
       "      <th>Volvo_240_Compact</th>\n",
       "      <td>Volvo</td>\n",
       "      <td>240</td>\n",
       "      <td>Compact</td>\n",
       "      <td>21.8</td>\n",
       "      <td>22.7</td>\n",
       "      <td>23.5</td>\n",
       "      <td>21.0</td>\n",
       "      <td>28.0</td>\n",
       "      <td>Driver only</td>\n",
       "      <td>Rear</td>\n",
       "      <td>...</td>\n",
       "      <td>5.0</td>\n",
       "      <td>190.0</td>\n",
       "      <td>104.0</td>\n",
       "      <td>67.0</td>\n",
       "      <td>37.0</td>\n",
       "      <td>29.5</td>\n",
       "      <td>14.0</td>\n",
       "      <td>2985.0</td>\n",
       "      <td>non-USA</td>\n",
       "      <td>Volvo 240</td>\n",
       "    </tr>\n",
       "    <tr>\n",
       "      <th>missing_850_Midsize</th>\n",
       "      <td>missing</td>\n",
       "      <td>850</td>\n",
       "      <td>Midsize</td>\n",
       "      <td>24.8</td>\n",
       "      <td>26.7</td>\n",
       "      <td>28.5</td>\n",
       "      <td>20.0</td>\n",
       "      <td>28.0</td>\n",
       "      <td>Driver &amp; Passenger</td>\n",
       "      <td>Front</td>\n",
       "      <td>...</td>\n",
       "      <td>5.0</td>\n",
       "      <td>184.0</td>\n",
       "      <td>105.0</td>\n",
       "      <td>69.0</td>\n",
       "      <td>38.0</td>\n",
       "      <td>30.0</td>\n",
       "      <td>15.0</td>\n",
       "      <td>3245.0</td>\n",
       "      <td>non-USA</td>\n",
       "      <td>Volvo 850</td>\n",
       "    </tr>\n",
       "  </tbody>\n",
       "</table>\n",
       "<p>93 rows × 27 columns</p>\n",
       "</div>"
      ],
      "text/plain": [
       "                          Manufacturer    Model     Type  Min.Price  Price  \\\n",
       "Acura_Integra_Small              Acura  Integra    Small       12.9   15.9   \n",
       "missing_Legend_Midsize         missing   Legend  Midsize       29.2   33.9   \n",
       "Audi_90_Compact                   Audi       90  Compact       25.9   29.1   \n",
       "Audi_100_Midsize                  Audi      100  Midsize        NaN   37.7   \n",
       "BMW_535i_Midsize                   BMW     535i  Midsize        NaN   30.0   \n",
       "...                                ...      ...      ...        ...    ...   \n",
       "Volkswagen_Eurovan_Van      Volkswagen  Eurovan      Van       16.6   19.7   \n",
       "Volkswagen_Passat_Compact   Volkswagen   Passat  Compact       17.6   20.0   \n",
       "Volkswagen_Corrado_Sporty   Volkswagen  Corrado   Sporty       22.9   23.3   \n",
       "Volvo_240_Compact                Volvo      240  Compact       21.8   22.7   \n",
       "missing_850_Midsize            missing      850  Midsize       24.8   26.7   \n",
       "\n",
       "                           Max.Price  MPG.city  MPG.highway  \\\n",
       "Acura_Integra_Small             18.8      25.0         31.0   \n",
       "missing_Legend_Midsize          38.7      18.0         25.0   \n",
       "Audi_90_Compact                 32.3      20.0         26.0   \n",
       "Audi_100_Midsize                44.6      19.0         26.0   \n",
       "BMW_535i_Midsize                 NaN      22.0         30.0   \n",
       "...                              ...       ...          ...   \n",
       "Volkswagen_Eurovan_Van          22.7      17.0         21.0   \n",
       "Volkswagen_Passat_Compact       22.4      21.0         30.0   \n",
       "Volkswagen_Corrado_Sporty       23.7      18.0         25.0   \n",
       "Volvo_240_Compact               23.5      21.0         28.0   \n",
       "missing_850_Midsize             28.5      20.0         28.0   \n",
       "\n",
       "                                      AirBags DriveTrain  ... Passengers  \\\n",
       "Acura_Integra_Small                       NaN      Front  ...        5.0   \n",
       "missing_Legend_Midsize     Driver & Passenger      Front  ...        5.0   \n",
       "Audi_90_Compact                   Driver only      Front  ...        5.0   \n",
       "Audi_100_Midsize           Driver & Passenger        NaN  ...        6.0   \n",
       "BMW_535i_Midsize                          NaN       Rear  ...        4.0   \n",
       "...                                       ...        ...  ...        ...   \n",
       "Volkswagen_Eurovan_Van                    NaN      Front  ...        7.0   \n",
       "Volkswagen_Passat_Compact                 NaN      Front  ...        5.0   \n",
       "Volkswagen_Corrado_Sporty                 NaN      Front  ...        4.0   \n",
       "Volvo_240_Compact                 Driver only       Rear  ...        5.0   \n",
       "missing_850_Midsize        Driver & Passenger      Front  ...        5.0   \n",
       "\n",
       "                           Length  Wheelbase  Width  Turn.circle  \\\n",
       "Acura_Integra_Small         177.0      102.0   68.0         37.0   \n",
       "missing_Legend_Midsize      195.0      115.0   71.0         38.0   \n",
       "Audi_90_Compact             180.0      102.0   67.0         37.0   \n",
       "Audi_100_Midsize            193.0      106.0    NaN         37.0   \n",
       "BMW_535i_Midsize            186.0      109.0   69.0         39.0   \n",
       "...                           ...        ...    ...          ...   \n",
       "Volkswagen_Eurovan_Van      187.0      115.0   72.0         38.0   \n",
       "Volkswagen_Passat_Compact   180.0      103.0   67.0         35.0   \n",
       "Volkswagen_Corrado_Sporty   159.0       97.0   66.0         36.0   \n",
       "Volvo_240_Compact           190.0      104.0   67.0         37.0   \n",
       "missing_850_Midsize         184.0      105.0   69.0         38.0   \n",
       "\n",
       "                          Rear.seat.room  Luggage.room  Weight   Origin  \\\n",
       "Acura_Integra_Small                 26.5           NaN  2705.0  non-USA   \n",
       "missing_Legend_Midsize              30.0          15.0  3560.0  non-USA   \n",
       "Audi_90_Compact                     28.0          14.0  3375.0  non-USA   \n",
       "Audi_100_Midsize                    31.0          17.0  3405.0  non-USA   \n",
       "BMW_535i_Midsize                    27.0          13.0  3640.0  non-USA   \n",
       "...                                  ...           ...     ...      ...   \n",
       "Volkswagen_Eurovan_Van              34.0           NaN  3960.0      NaN   \n",
       "Volkswagen_Passat_Compact           31.5          14.0  2985.0  non-USA   \n",
       "Volkswagen_Corrado_Sporty           26.0          15.0  2810.0  non-USA   \n",
       "Volvo_240_Compact                   29.5          14.0  2985.0  non-USA   \n",
       "missing_850_Midsize                 30.0          15.0  3245.0  non-USA   \n",
       "\n",
       "                                         Make  \n",
       "Acura_Integra_Small             Acura Integra  \n",
       "missing_Legend_Midsize           Acura Legend  \n",
       "Audi_90_Compact                       Audi 90  \n",
       "Audi_100_Midsize                     Audi 100  \n",
       "BMW_535i_Midsize                     BMW 535i  \n",
       "...                                       ...  \n",
       "Volkswagen_Eurovan_Van     Volkswagen Eurovan  \n",
       "Volkswagen_Passat_Compact   Volkswagen Passat  \n",
       "Volkswagen_Corrado_Sporty  Volkswagen Corrado  \n",
       "Volvo_240_Compact                   Volvo 240  \n",
       "missing_850_Midsize                 Volvo 850  \n",
       "\n",
       "[93 rows x 27 columns]"
      ]
     },
     "execution_count": 15,
     "metadata": {},
     "output_type": "execute_result"
    }
   ],
   "source": [
    "df"
   ]
  },
  {
   "cell_type": "code",
   "execution_count": 17,
   "metadata": {},
   "outputs": [
    {
     "data": {
      "text/plain": [
       "9"
      ]
     },
     "execution_count": 17,
     "metadata": {},
     "output_type": "execute_result"
    }
   ],
   "source": [
    "df = pd.DataFrame(np.random.randint(1, 30, 30).reshape(10,-1), columns=list('abc'))\n",
    "\n",
    "# Solution\n",
    "n = 5\n",
    "df['a'].argsort()[::-1][n]"
   ]
  },
  {
   "cell_type": "code",
   "execution_count": 18,
   "metadata": {},
   "outputs": [
    {
     "data": {
      "text/html": [
       "<div>\n",
       "<style scoped>\n",
       "    .dataframe tbody tr th:only-of-type {\n",
       "        vertical-align: middle;\n",
       "    }\n",
       "\n",
       "    .dataframe tbody tr th {\n",
       "        vertical-align: top;\n",
       "    }\n",
       "\n",
       "    .dataframe thead th {\n",
       "        text-align: right;\n",
       "    }\n",
       "</style>\n",
       "<table border=\"1\" class=\"dataframe\">\n",
       "  <thead>\n",
       "    <tr style=\"text-align: right;\">\n",
       "      <th></th>\n",
       "      <th>a</th>\n",
       "      <th>b</th>\n",
       "      <th>c</th>\n",
       "    </tr>\n",
       "  </thead>\n",
       "  <tbody>\n",
       "    <tr>\n",
       "      <th>9</th>\n",
       "      <td>23</td>\n",
       "      <td>29</td>\n",
       "      <td>15</td>\n",
       "    </tr>\n",
       "    <tr>\n",
       "      <th>8</th>\n",
       "      <td>26</td>\n",
       "      <td>24</td>\n",
       "      <td>25</td>\n",
       "    </tr>\n",
       "    <tr>\n",
       "      <th>7</th>\n",
       "      <td>23</td>\n",
       "      <td>19</td>\n",
       "      <td>15</td>\n",
       "    </tr>\n",
       "    <tr>\n",
       "      <th>6</th>\n",
       "      <td>1</td>\n",
       "      <td>8</td>\n",
       "      <td>7</td>\n",
       "    </tr>\n",
       "    <tr>\n",
       "      <th>5</th>\n",
       "      <td>24</td>\n",
       "      <td>19</td>\n",
       "      <td>20</td>\n",
       "    </tr>\n",
       "    <tr>\n",
       "      <th>4</th>\n",
       "      <td>5</td>\n",
       "      <td>21</td>\n",
       "      <td>21</td>\n",
       "    </tr>\n",
       "    <tr>\n",
       "      <th>3</th>\n",
       "      <td>27</td>\n",
       "      <td>29</td>\n",
       "      <td>20</td>\n",
       "    </tr>\n",
       "    <tr>\n",
       "      <th>2</th>\n",
       "      <td>26</td>\n",
       "      <td>9</td>\n",
       "      <td>19</td>\n",
       "    </tr>\n",
       "    <tr>\n",
       "      <th>1</th>\n",
       "      <td>9</td>\n",
       "      <td>27</td>\n",
       "      <td>22</td>\n",
       "    </tr>\n",
       "    <tr>\n",
       "      <th>0</th>\n",
       "      <td>18</td>\n",
       "      <td>26</td>\n",
       "      <td>29</td>\n",
       "    </tr>\n",
       "  </tbody>\n",
       "</table>\n",
       "</div>"
      ],
      "text/plain": [
       "    a   b   c\n",
       "9  23  29  15\n",
       "8  26  24  25\n",
       "7  23  19  15\n",
       "6   1   8   7\n",
       "5  24  19  20\n",
       "4   5  21  21\n",
       "3  27  29  20\n",
       "2  26   9  19\n",
       "1   9  27  22\n",
       "0  18  26  29"
      ]
     },
     "execution_count": 18,
     "metadata": {},
     "output_type": "execute_result"
    }
   ],
   "source": [
    "df.iloc[::-1, :]"
   ]
  },
  {
   "cell_type": "code",
   "execution_count": 23,
   "metadata": {},
   "outputs": [
    {
     "name": "stdout",
     "output_type": "stream",
     "text": [
      "    a   b   c\n",
      "0  18  26  29\n",
      "1   9  27  22\n",
      "2  26   9  19\n",
      "3  27  29  20\n",
      "4   5  21  21\n",
      "5  24  19  20\n",
      "6   1   8   7\n",
      "7  23  19  15\n",
      "8  26  24  25\n",
      "9  23  29  15\n"
     ]
    },
    {
     "data": {
      "text/plain": [
       "1    5\n",
       "0    4\n",
       "2    1\n",
       "Name: count, dtype: int64"
      ]
     },
     "execution_count": 23,
     "metadata": {},
     "output_type": "execute_result"
    }
   ],
   "source": [
    "print(df)\n",
    "df.apply(np.argmax, axis=1).value_counts()"
   ]
  },
  {
   "cell_type": "code",
   "execution_count": 8,
   "metadata": {},
   "outputs": [
    {
     "name": "stdout",
     "output_type": "stream",
     "text": [
      "    p   q   r   s   t   u   v   w   x   y\n",
      "a  26  69  38  97  44  50  15  95  15  89\n",
      "b  61  23  14   8  85  46  93  17   8  50\n",
      "c  28  52  77  18  35  70  70  51  30  50\n",
      "d  17  23   5  98  99  89  26  36  85  65\n",
      "e  26  72  37  80  14  49   6  11  31  46\n",
      "f  84  13  43  50  88  21  55  29  38  26\n",
      "g  29  68  94  81  95  27  36  62  23  62\n",
      "h  31  16  20  25  59  30  62  50  47  20\n",
      "          p         q         r         s         t         u         v  \\\n",
      "p  1.000000  0.539748  0.077715  0.458840  0.347320  0.575046  0.530565   \n",
      "q  0.539748  1.000000  0.581979  0.483458  0.554653  0.064939  0.606103   \n",
      "r  0.077715  0.581979  1.000000  0.020461  0.120224  0.290453  0.043843   \n",
      "s  0.458840  0.483458  0.020461  1.000000  0.039857  0.219119  0.923745   \n",
      "t  0.347320  0.554653  0.120224  0.039857  1.000000  0.107305  0.311199   \n",
      "u  0.575046  0.064939  0.290453  0.219119  0.107305  1.000000  0.170194   \n",
      "v  0.530565  0.606103  0.043843  0.923745  0.311199  0.170194  1.000000   \n",
      "w  0.380354  0.383408  0.352072  0.338920  0.042072  0.030529  0.252809   \n",
      "x  0.309958  0.432942  0.402062  0.325172  0.298888  0.499309  0.256912   \n",
      "y  0.497582  0.615402  0.122273  0.621764  0.023933  0.462519  0.473033   \n",
      "\n",
      "          w         x         y  \n",
      "p  0.380354  0.309958  0.497582  \n",
      "q  0.383408  0.432942  0.615402  \n",
      "r  0.352072  0.402062  0.122273  \n",
      "s  0.338920  0.325172  0.621764  \n",
      "t  0.042072  0.298888  0.023933  \n",
      "u  0.030529  0.499309  0.462519  \n",
      "v  0.252809  0.256912  0.473033  \n",
      "w  1.000000  0.173899  0.577131  \n",
      "x  0.173899  1.000000  0.160471  \n",
      "y  0.577131  0.160471  1.000000  \n",
      "p    0.575046\n",
      "q    0.615402\n",
      "r    0.581979\n",
      "s    0.923745\n",
      "t    0.554653\n",
      "u    0.575046\n",
      "v    0.923745\n",
      "w    0.577131\n",
      "x    0.499309\n",
      "y    0.621764\n",
      "dtype: float64\n",
      "Maximum Correlation possible for each column:  [0.58 0.62 0.58 0.92 0.55 0.58 0.92 0.58 0.5  0.62]\n"
     ]
    }
   ],
   "source": [
    "# Input\n",
    "df = pd.DataFrame(np.random.randint(1,100, 80).reshape(8, -1), columns=list('pqrstuvwxy'), index=list('abcdefgh'))\n",
    "print(df)\n",
    "\n",
    "# Solution\n",
    "abs_corrmat = np.abs(df.corr())\n",
    "print(abs_corrmat)\n",
    "max_corr = abs_corrmat.apply(lambda x: sorted(x)[-2])\n",
    "print(max_corr)\n",
    "print('Maximum Correlation possible for each column: ', np.round(max_corr.tolist(), 2))"
   ]
  },
  {
   "cell_type": "code",
   "execution_count": 11,
   "metadata": {},
   "outputs": [
    {
     "data": {
      "text/plain": [
       "a    0.154639\n",
       "b    0.086022\n",
       "c    0.233766\n",
       "d    0.050505\n",
       "e    0.075000\n",
       "f    0.147727\n",
       "g    0.242105\n",
       "h    0.258065\n",
       "dtype: float64"
      ]
     },
     "execution_count": 11,
     "metadata": {},
     "output_type": "execute_result"
    }
   ],
   "source": [
    "min_max = df.apply(lambda x: np.min(x)/np.max(x), axis= 1)\n",
    "min_max"
   ]
  },
  {
   "cell_type": "code",
   "execution_count": 26,
   "metadata": {},
   "outputs": [
    {
     "name": "stdout",
     "output_type": "stream",
     "text": [
      "    p   q   r   s   t   u   v   w   x   y\n",
      "a  26  69  38  97  44  50  15  95  15  89\n",
      "b  61  23  14   8  85  46  93  17   8  50\n",
      "c  28  52  77  18  35  70  70  51  30  50\n",
      "d  17  23   5  98  99  89  26  36  85  65\n",
      "e  26  72  37  80  14  49   6  11  31  46\n",
      "f  84  13  43  50  88  21  55  29  38  26\n",
      "g  29  68  94  81  95  27  36  62  23  62\n",
      "h  31  16  20  25  59  30  62  50  47  20\n",
      "a    97\n",
      "b    93\n",
      "c    77\n",
      "d    99\n",
      "e    80\n",
      "f    88\n",
      "g    95\n",
      "h    62\n",
      "dtype: int32\n"
     ]
    }
   ],
   "source": [
    "out = df.apply(lambda x: x.sort_values().unique()[-1], axis =1)\n",
    "print(df)\n",
    "print(out)"
   ]
  },
  {
   "cell_type": "code",
   "execution_count": 27,
   "metadata": {},
   "outputs": [
    {
     "name": "stdout",
     "output_type": "stream",
     "text": [
      "Solution Q1\n",
      "       p     q     r     s     t     u     v     w     x     y\n",
      "a -0.52  1.05 -0.10  1.09 -0.66  0.10 -1.02  1.89 -0.82  1.73\n",
      "b  1.02 -0.74 -0.88 -1.34  0.64 -0.08  1.60 -0.99 -1.12 -0.05\n",
      "c -0.43  0.39  1.17 -1.07 -0.95  0.97  0.83  0.26 -0.19 -0.05\n",
      "d -0.91 -0.74 -1.17  1.12  1.08  1.80 -0.65 -0.29  2.12  0.64\n",
      "e -0.52  1.16 -0.13  0.62 -1.61  0.05 -1.33 -1.22 -0.15 -0.23\n",
      "f  2.04 -1.13  0.07 -0.19  0.73 -1.17  0.32 -0.55  0.14 -1.14\n",
      "g -0.39  1.01  1.73  0.65  0.96 -0.91 -0.32  0.67 -0.49  0.50\n",
      "h -0.30 -1.01 -0.68 -0.88 -0.19 -0.78  0.56  0.23  0.52 -1.41\n",
      "Solution Q2\n",
      "       p     q     r     s     t     u     v     w     x     y\n",
      "a  0.87  0.05  0.63  0.01  0.65  0.57  0.90  0.00  0.91  0.00\n",
      "b  0.34  0.83  0.90  1.00  0.16  0.63  0.00  0.93  1.00  0.57\n",
      "c  0.84  0.34  0.19  0.89  0.75  0.28  0.26  0.52  0.71  0.57\n",
      "d  1.00  0.83  1.00  0.00  0.00  0.00  0.77  0.70  0.00  0.35\n",
      "e  0.87  0.00  0.64  0.20  1.00  0.59  1.00  1.00  0.70  0.62\n",
      "f  0.00  1.00  0.57  0.53  0.13  1.00  0.44  0.79  0.61  0.91\n",
      "g  0.82  0.07  0.00  0.19  0.05  0.91  0.66  0.39  0.81  0.39\n",
      "h  0.79  0.95  0.83  0.81  0.47  0.87  0.36  0.54  0.49  1.00\n"
     ]
    }
   ],
   "source": [
    "# Solution Q1\n",
    "out1 = df.apply(lambda x: ((x - x.mean())/x.std()).round(2))\n",
    "print('Solution Q1\\n',out1)\n",
    "\n",
    "# Solution Q2\n",
    "out2 = df.apply(lambda x: ((x.max() - x)/(x.max() - x.min())).round(2))\n",
    "print('Solution Q2\\n', out2)  "
   ]
  },
  {
   "cell_type": "code",
   "execution_count": 29,
   "metadata": {},
   "outputs": [
    {
     "data": {
      "text/html": [
       "<div>\n",
       "<style scoped>\n",
       "    .dataframe tbody tr th:only-of-type {\n",
       "        vertical-align: middle;\n",
       "    }\n",
       "\n",
       "    .dataframe tbody tr th {\n",
       "        vertical-align: top;\n",
       "    }\n",
       "\n",
       "    .dataframe thead th {\n",
       "        text-align: right;\n",
       "    }\n",
       "</style>\n",
       "<table border=\"1\" class=\"dataframe\">\n",
       "  <thead>\n",
       "    <tr style=\"text-align: right;\">\n",
       "      <th></th>\n",
       "      <th>p</th>\n",
       "      <th>q</th>\n",
       "      <th>r</th>\n",
       "      <th>s</th>\n",
       "      <th>t</th>\n",
       "      <th>u</th>\n",
       "      <th>v</th>\n",
       "      <th>w</th>\n",
       "      <th>x</th>\n",
       "      <th>y</th>\n",
       "    </tr>\n",
       "  </thead>\n",
       "  <tbody>\n",
       "    <tr>\n",
       "      <th>a</th>\n",
       "      <td>0</td>\n",
       "      <td>69</td>\n",
       "      <td>38</td>\n",
       "      <td>97</td>\n",
       "      <td>44</td>\n",
       "      <td>50</td>\n",
       "      <td>15</td>\n",
       "      <td>0</td>\n",
       "      <td>15</td>\n",
       "      <td>89</td>\n",
       "    </tr>\n",
       "    <tr>\n",
       "      <th>b</th>\n",
       "      <td>61</td>\n",
       "      <td>0</td>\n",
       "      <td>14</td>\n",
       "      <td>8</td>\n",
       "      <td>85</td>\n",
       "      <td>46</td>\n",
       "      <td>0</td>\n",
       "      <td>17</td>\n",
       "      <td>8</td>\n",
       "      <td>50</td>\n",
       "    </tr>\n",
       "    <tr>\n",
       "      <th>c</th>\n",
       "      <td>28</td>\n",
       "      <td>52</td>\n",
       "      <td>0</td>\n",
       "      <td>18</td>\n",
       "      <td>35</td>\n",
       "      <td>0</td>\n",
       "      <td>70</td>\n",
       "      <td>51</td>\n",
       "      <td>30</td>\n",
       "      <td>50</td>\n",
       "    </tr>\n",
       "    <tr>\n",
       "      <th>d</th>\n",
       "      <td>17</td>\n",
       "      <td>23</td>\n",
       "      <td>5</td>\n",
       "      <td>0</td>\n",
       "      <td>0</td>\n",
       "      <td>89</td>\n",
       "      <td>26</td>\n",
       "      <td>36</td>\n",
       "      <td>85</td>\n",
       "      <td>65</td>\n",
       "    </tr>\n",
       "    <tr>\n",
       "      <th>e</th>\n",
       "      <td>26</td>\n",
       "      <td>72</td>\n",
       "      <td>37</td>\n",
       "      <td>0</td>\n",
       "      <td>0</td>\n",
       "      <td>49</td>\n",
       "      <td>6</td>\n",
       "      <td>11</td>\n",
       "      <td>31</td>\n",
       "      <td>46</td>\n",
       "    </tr>\n",
       "    <tr>\n",
       "      <th>f</th>\n",
       "      <td>84</td>\n",
       "      <td>13</td>\n",
       "      <td>0</td>\n",
       "      <td>50</td>\n",
       "      <td>88</td>\n",
       "      <td>0</td>\n",
       "      <td>55</td>\n",
       "      <td>29</td>\n",
       "      <td>38</td>\n",
       "      <td>26</td>\n",
       "    </tr>\n",
       "    <tr>\n",
       "      <th>g</th>\n",
       "      <td>29</td>\n",
       "      <td>0</td>\n",
       "      <td>94</td>\n",
       "      <td>81</td>\n",
       "      <td>95</td>\n",
       "      <td>27</td>\n",
       "      <td>0</td>\n",
       "      <td>62</td>\n",
       "      <td>23</td>\n",
       "      <td>62</td>\n",
       "    </tr>\n",
       "    <tr>\n",
       "      <th>h</th>\n",
       "      <td>0</td>\n",
       "      <td>16</td>\n",
       "      <td>20</td>\n",
       "      <td>25</td>\n",
       "      <td>59</td>\n",
       "      <td>30</td>\n",
       "      <td>62</td>\n",
       "      <td>0</td>\n",
       "      <td>47</td>\n",
       "      <td>20</td>\n",
       "    </tr>\n",
       "  </tbody>\n",
       "</table>\n",
       "</div>"
      ],
      "text/plain": [
       "    p   q   r   s   t   u   v   w   x   y\n",
       "a   0  69  38  97  44  50  15   0  15  89\n",
       "b  61   0  14   8  85  46   0  17   8  50\n",
       "c  28  52   0  18  35   0  70  51  30  50\n",
       "d  17  23   5   0   0  89  26  36  85  65\n",
       "e  26  72  37   0   0  49   6  11  31  46\n",
       "f  84  13   0  50  88   0  55  29  38  26\n",
       "g  29   0  94  81  95  27   0  62  23  62\n",
       "h   0  16  20  25  59  30  62   0  47  20"
      ]
     },
     "execution_count": 29,
     "metadata": {},
     "output_type": "execute_result"
    }
   ],
   "source": [
    "for i in range(df.shape[0]):\n",
    "    df.iat[i, i] = 0\n",
    "    df.iat[df.shape[0]-i-1, i] = 0\n",
    "df"
   ]
  },
  {
   "cell_type": "code",
   "execution_count": 31,
   "metadata": {},
   "outputs": [
    {
     "name": "stdout",
     "output_type": "stream",
     "text": [
      "    fruit     taste  price\n",
      "0   apple  0.986164     10\n",
      "1  banana  0.477163      1\n",
      "2  orange  0.696771     11\n",
      "3   apple  0.290113      8\n",
      "4  banana  0.381137     12\n",
      "5  orange  0.159026     10\n",
      "6   apple  0.023130      5\n",
      "7  banana  0.968245      7\n",
      "8  orange  0.474017      0\n"
     ]
    },
    {
     "data": {
      "text/plain": [
       "0.38113748883082865"
      ]
     },
     "execution_count": 31,
     "metadata": {},
     "output_type": "execute_result"
    }
   ],
   "source": [
    "# Input\n",
    "df = pd.DataFrame({'fruit': ['apple', 'banana', 'orange'] * 3,\n",
    "                   'taste': np.random.rand(9),\n",
    "                   'price': np.random.randint(0, 15, 9)})\n",
    "\n",
    "print(df)\n",
    "\n",
    "# Solution\n",
    "df_grpd = df['taste'].groupby(df.fruit)\n",
    "df_grpd.get_group('banana').sort_values().iloc[-3]"
   ]
  }
 ],
 "metadata": {
  "kernelspec": {
   "display_name": "Python 3",
   "language": "python",
   "name": "python3"
  },
  "language_info": {
   "codemirror_mode": {
    "name": "ipython",
    "version": 3
   },
   "file_extension": ".py",
   "mimetype": "text/x-python",
   "name": "python",
   "nbconvert_exporter": "python",
   "pygments_lexer": "ipython3",
   "version": "3.11.4"
  },
  "orig_nbformat": 4
 },
 "nbformat": 4,
 "nbformat_minor": 2
}
