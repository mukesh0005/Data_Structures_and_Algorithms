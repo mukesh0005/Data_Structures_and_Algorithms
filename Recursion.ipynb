{
 "cells": [
  {
   "cell_type": "code",
   "execution_count": 1,
   "metadata": {},
   "outputs": [],
   "source": [
    "def factorial(n):\n",
    "    if n==0:\n",
    "        return 1\n",
    "    else:\n",
    "        return n*factorial(n-1)"
   ]
  },
  {
   "cell_type": "code",
   "execution_count": 2,
   "metadata": {},
   "outputs": [
    {
     "data": {
      "text/plain": [
       "24"
      ]
     },
     "execution_count": 2,
     "metadata": {},
     "output_type": "execute_result"
    }
   ],
   "source": [
    "factorial(4)"
   ]
  },
  {
   "cell_type": "code",
   "execution_count": null,
   "metadata": {},
   "outputs": [],
   "source": [
    "def binary(data,target,low,high):\n",
    "    if low > high:\n",
    "        return False\n",
    "    else:\n",
    "        mid = (high+low)/2\n",
    "        if target == data[mid]:\n",
    "            return True\n",
    "        elif target<data[mid]:\n",
    "            return binary(data,target,low,mid-1)\n",
    "        else:\n",
    "            return binary(data,target,mid+1,high)"
   ]
  },
  {
   "cell_type": "code",
   "execution_count": 8,
   "metadata": {},
   "outputs": [
    {
     "name": "stdout",
     "output_type": "stream",
     "text": [
      "82\n"
     ]
    }
   ],
   "source": [
    "def rec_max(S,index=0):\n",
    "    if index == len(S)-1:\n",
    "        return S[index]\n",
    "    return max(S[index],rec_max(S,index+1))\n",
    "print(rec_max([1,2,3,4,5,61,7,82]))"
   ]
  },
  {
   "cell_type": "code",
   "execution_count": 15,
   "metadata": {},
   "outputs": [
    {
     "data": {
      "text/plain": [
       "32"
      ]
     },
     "execution_count": 15,
     "metadata": {},
     "output_type": "execute_result"
    }
   ],
   "source": [
    "def power(x,y):\n",
    "    if y==0:\n",
    "        return 1\n",
    "    else:\n",
    "        return x * power(x,y-1)\n",
    "power(2,5)"
   ]
  },
  {
   "cell_type": "code",
   "execution_count": 19,
   "metadata": {},
   "outputs": [
    {
     "data": {
      "text/plain": [
       "2048"
      ]
     },
     "execution_count": 19,
     "metadata": {},
     "output_type": "execute_result"
    }
   ],
   "source": [
    "def powers(x,y):\n",
    "    if y==0:\n",
    "        return 1\n",
    "    else:\n",
    "        partial =  power(x,y//2)\n",
    "        result = partial * partial\n",
    "        if y%2 == 1:\n",
    "            result *= x\n",
    "    return result\n",
    "powers(2,11)"
   ]
  },
  {
   "cell_type": "code",
   "execution_count": 27,
   "metadata": {},
   "outputs": [
    {
     "name": "stdout",
     "output_type": "stream",
     "text": [
      "[6, 2, 6, 3, 4]\n"
     ]
    }
   ],
   "source": [
    "def reverse(S,start=0,stop=0):\n",
    "    if start< stop-1:\n",
    "        S[start],S[stop-1]=S[stop-1],S[start]\n",
    "        reverse(S,start+1,stop-1)\n",
    "    return S\n",
    "S = [4, 3, 6, 2, 6]\n",
    "print(reverse(S,0,5))"
   ]
  },
  {
   "cell_type": "code",
   "execution_count": 34,
   "metadata": {},
   "outputs": [
    {
     "data": {
      "text/plain": [
       "1.8333333333333333"
      ]
     },
     "execution_count": 34,
     "metadata": {},
     "output_type": "execute_result"
    }
   ],
   "source": [
    "def hp(n):\n",
    "    if n == 1:\n",
    "        return 1\n",
    "    else:\n",
    "        return 1/n + hp(n-1)\n",
    "\n",
    "hp(3)"
   ]
  },
  {
   "cell_type": "code",
   "execution_count": 37,
   "metadata": {},
   "outputs": [
    {
     "name": "stdout",
     "output_type": "stream",
     "text": [
      "(1, 8)\n",
      "(-45, 774)\n",
      "(1, 8)\n"
     ]
    }
   ],
   "source": [
    "def min_max(S, index=0):\n",
    "    if index == len(S)-1:\n",
    "        return S[index], S[index]  #The current min and max values\n",
    "    else:\n",
    "        min_c, max_c = min_max(S, index+1)\n",
    "        return min(S[index], min_c), max(S[index], max_c)\n",
    "    \n",
    "    \n",
    "print(min_max([1,2,3,4,5,6,7,8]))\n",
    "print(min_max([-45,2,774,5,6,7,8]))\n",
    "print(min_max([8,7,6,5,4,3,2,1]))"
   ]
  },
  {
   "cell_type": "code",
   "execution_count": 38,
   "metadata": {},
   "outputs": [
    {
     "name": "stdout",
     "output_type": "stream",
     "text": [
      "100 6 6.643856189774725\n",
      "5 2 2.321928094887362\n",
      "7 2 2.807354922057604\n",
      "1.9 0 0.925999418556223\n",
      "0.1 0 -3.321928094887362\n",
      "6 2 2.584962500721156\n"
     ]
    }
   ],
   "source": [
    "import math\n",
    "def log_2_int(n):\n",
    "    if n<2:\n",
    "        return 0   #If you are less than 2, you don't get to accumulate any more divisions.  Note it isn't <=2\n",
    "    else:\n",
    "        return 1+log_2_int(n//2)\n",
    "     \n",
    "\n",
    "for n in [100, 5, 7, 1.9, 0.1, 6]:\n",
    "    print(n, log_2_int(n), math.log(n, 2))"
   ]
  }
 ],
 "metadata": {
  "kernelspec": {
   "display_name": "Python 3",
   "language": "python",
   "name": "python3"
  },
  "language_info": {
   "codemirror_mode": {
    "name": "ipython",
    "version": 3
   },
   "file_extension": ".py",
   "mimetype": "text/x-python",
   "name": "python",
   "nbconvert_exporter": "python",
   "pygments_lexer": "ipython3",
   "version": "3.11.4"
  },
  "orig_nbformat": 4
 },
 "nbformat": 4,
 "nbformat_minor": 2
}
